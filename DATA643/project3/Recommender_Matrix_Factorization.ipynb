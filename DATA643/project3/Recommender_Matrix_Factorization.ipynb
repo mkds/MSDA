{
 "cells": [
  {
   "cell_type": "markdown",
   "metadata": {},
   "source": [
    "## Recommender system using matrix factorization techniques\n",
    "\n",
    "In this project recommendation systems using matrix factorization techniques are analyzed. An item based collaborative filtering model is also built in order to compare the performance of the systems. \n",
    "\n",
    "Following matrix factorization techniques are explored in this project\n",
    "- Singular Value Decomposition\n",
    "- Alternating Least Square (ALS) \n",
    "     - ALS using package nifma\n",
    "     - ALS using a coded function \n",
    "- Matrix Factorization using Gradient Descent(GD) (using tensorflow for GD)\n",
    "     - Matrix factors using GD\n",
    "     - Matrix factors using GD with weighted Errors\n"
   ]
  },
  {
   "cell_type": "code",
   "execution_count": 1,
   "metadata": {
    "collapsed": true
   },
   "outputs": [],
   "source": [
    "%%capture\n",
    "import logging\n",
    "logging.getLogger().setLevel(logging.ERROR)\n",
    "import matplotlib\n",
    "import matplotlib.pyplot as plt\n",
    "import numpy as np\n",
    "import pandas as pd\n",
    "import graphlab as gl\n",
    "%matplotlib inline\n",
    "matplotlib.rcParams['figure.figsize'] = (14,10)"
   ]
  },
  {
   "cell_type": "markdown",
   "metadata": {},
   "source": [
    "### Data Set\n",
    "The movie lense (100k) dataset is used for this project. The data set contains 100k rating for 1682 movies from 943 users. \n",
    "\n",
    "Citation for Data Set  \n",
    "F. Maxwell Harper and Joseph A. Konstan. 2015. The MovieLens Datasets:\n",
    "History and Context. ACM Transactions on Interactive Intelligent\n",
    "Systems (TiiS) 5, 4, Article 19 (December 2015), 19 pages.\n",
    "DOI=http://dx.doi.org/10.1145/2827872"
   ]
  },
  {
   "cell_type": "code",
   "execution_count": 2,
   "metadata": {
    "collapsed": true
   },
   "outputs": [],
   "source": [
    "#Read dataset using panda\n",
    "rating = pd.read_csv(\"../data/u.data\",sep=\"\\t\",usecols=[0,1,2],names=[\"uid\",\"movie_id\",\"rating\"])"
   ]
  },
  {
   "cell_type": "code",
   "execution_count": 3,
   "metadata": {
    "collapsed": false
   },
   "outputs": [
    {
     "data": {
      "text/html": [
       "<div>\n",
       "<table border=\"1\" class=\"dataframe\">\n",
       "  <thead>\n",
       "    <tr style=\"text-align: right;\">\n",
       "      <th></th>\n",
       "      <th>uid</th>\n",
       "      <th>movie_id</th>\n",
       "      <th>rating</th>\n",
       "    </tr>\n",
       "  </thead>\n",
       "  <tbody>\n",
       "    <tr>\n",
       "      <th>0</th>\n",
       "      <td>196</td>\n",
       "      <td>242</td>\n",
       "      <td>3</td>\n",
       "    </tr>\n",
       "    <tr>\n",
       "      <th>1</th>\n",
       "      <td>186</td>\n",
       "      <td>302</td>\n",
       "      <td>3</td>\n",
       "    </tr>\n",
       "    <tr>\n",
       "      <th>2</th>\n",
       "      <td>22</td>\n",
       "      <td>377</td>\n",
       "      <td>1</td>\n",
       "    </tr>\n",
       "    <tr>\n",
       "      <th>3</th>\n",
       "      <td>244</td>\n",
       "      <td>51</td>\n",
       "      <td>2</td>\n",
       "    </tr>\n",
       "    <tr>\n",
       "      <th>4</th>\n",
       "      <td>166</td>\n",
       "      <td>346</td>\n",
       "      <td>1</td>\n",
       "    </tr>\n",
       "  </tbody>\n",
       "</table>\n",
       "</div>"
      ],
      "text/plain": [
       "   uid  movie_id  rating\n",
       "0  196       242       3\n",
       "1  186       302       3\n",
       "2   22       377       1\n",
       "3  244        51       2\n",
       "4  166       346       1"
      ]
     },
     "execution_count": 3,
     "metadata": {},
     "output_type": "execute_result"
    }
   ],
   "source": [
    "rating.head()"
   ]
  },
  {
   "cell_type": "code",
   "execution_count": 4,
   "metadata": {
    "collapsed": false
   },
   "outputs": [
    {
     "data": {
      "text/plain": [
       "(100000, 3)"
      ]
     },
     "execution_count": 4,
     "metadata": {},
     "output_type": "execute_result"
    }
   ],
   "source": [
    "rating.shape"
   ]
  },
  {
   "cell_type": "markdown",
   "metadata": {},
   "source": [
    "### Data Transformation\n",
    "\n",
    "The movie rating is provided in long format. Let's convert it to wide format in order to perform dimension reduction.\n"
   ]
  },
  {
   "cell_type": "code",
   "execution_count": 5,
   "metadata": {
    "collapsed": false
   },
   "outputs": [
    {
     "data": {
      "text/plain": [
       "(943, 1682)"
      ]
     },
     "execution_count": 5,
     "metadata": {},
     "output_type": "execute_result"
    }
   ],
   "source": [
    "#Long to wide\n",
    "ratingw=rating.pivot_table(index=\"uid\",columns=\"movie_id\",values=\"rating\")\n",
    "ratingw.shape"
   ]
  },
  {
   "cell_type": "markdown",
   "metadata": {},
   "source": [
    "### Dimension Reduction\n",
    "The dataset provided is large and sparse. In order to build the recommendation engine without incurring too much of computing cost the data dimension needs to be reduced. For this project top 1000 movies (in terms of number of ratings, not by scale of rating) are considered. \n",
    "In order to remove user bias, the rating provided by a user is divided by mean user rating. The nifma package requires a non negative matrix to compute ALS. Hence the data is centered around 1 instead of 0. This method results in non uniform scale between above mean and below mean item. That is the different between a mean rating and a rating that is half of mean is 0.5 but difference between mean rating and twice mean rating is 1. But, this didn't affect the performance of the matrix based factorization methods. But, I tried this technique on the music data set (not detailed on this notebook) and it seemed to improve the performance (almost resulted in double precision). \n"
   ]
  },
  {
   "cell_type": "code",
   "execution_count": 6,
   "metadata": {
    "collapsed": false
   },
   "outputs": [
    {
     "data": {
      "text/html": [
       "<div>\n",
       "<table border=\"1\" class=\"dataframe\">\n",
       "  <thead>\n",
       "    <tr style=\"text-align: right;\">\n",
       "      <th>movie_id</th>\n",
       "      <th>50</th>\n",
       "      <th>100</th>\n",
       "      <th>181</th>\n",
       "      <th>258</th>\n",
       "      <th>174</th>\n",
       "    </tr>\n",
       "    <tr>\n",
       "      <th>uid</th>\n",
       "      <th></th>\n",
       "      <th></th>\n",
       "      <th></th>\n",
       "      <th></th>\n",
       "      <th></th>\n",
       "    </tr>\n",
       "  </thead>\n",
       "  <tbody>\n",
       "    <tr>\n",
       "      <th>1</th>\n",
       "      <td>1.361229</td>\n",
       "      <td>1.361229</td>\n",
       "      <td>1.361229</td>\n",
       "      <td>1.361229</td>\n",
       "      <td>1.361229</td>\n",
       "    </tr>\n",
       "    <tr>\n",
       "      <th>2</th>\n",
       "      <td>1.327434</td>\n",
       "      <td>1.327434</td>\n",
       "      <td>NaN</td>\n",
       "      <td>0.796460</td>\n",
       "      <td>NaN</td>\n",
       "    </tr>\n",
       "    <tr>\n",
       "      <th>3</th>\n",
       "      <td>NaN</td>\n",
       "      <td>NaN</td>\n",
       "      <td>1.395973</td>\n",
       "      <td>0.697987</td>\n",
       "      <td>NaN</td>\n",
       "    </tr>\n",
       "  </tbody>\n",
       "</table>\n",
       "</div>"
      ],
      "text/plain": [
       "movie_id       50        100       181       258       174\n",
       "uid                                                       \n",
       "1         1.361229  1.361229  1.361229  1.361229  1.361229\n",
       "2         1.327434  1.327434       NaN  0.796460       NaN\n",
       "3              NaN       NaN  1.395973  0.697987       NaN"
      ]
     },
     "execution_count": 6,
     "metadata": {},
     "output_type": "execute_result"
    }
   ],
   "source": [
    "top_rat=ratingw.iloc[:,np.argsort(-ratingw.sum(axis=0))].iloc[:,0:1000]\n",
    "top_rat=top_rat.div(top_rat.mean(axis=1),axis=0) #.div(top_rat.std(axis=1),axis=0)\n",
    "top_rat.iloc[0:3,0:5]"
   ]
  },
  {
   "cell_type": "code",
   "execution_count": 7,
   "metadata": {
    "collapsed": false
   },
   "outputs": [
    {
     "data": {
      "text/plain": [
       "(943, 1000)"
      ]
     },
     "execution_count": 7,
     "metadata": {},
     "output_type": "execute_result"
    }
   ],
   "source": [
    "#Pick users who have listened to at least 15 movies\n",
    "top_rat=top_rat[top_rat.count(axis=1)>15]\n",
    "top_rat.shape"
   ]
  },
  {
   "cell_type": "code",
   "execution_count": 8,
   "metadata": {
    "collapsed": false
   },
   "outputs": [],
   "source": [
    "#Convert back to long format\n",
    "top_ratl=top_rat.stack().reset_index()\n",
    "top_ratl.columns=[\"uid\",\"movie_id\",\"rating\"]"
   ]
  },
  {
   "cell_type": "markdown",
   "metadata": {},
   "source": [
    "### Prepare test and train data\n",
    "Used graplab package to split data for item based collaborative filtering. For matrix factorization technique 20% of the ratings are randomly selected and removed from training data. "
   ]
  },
  {
   "cell_type": "code",
   "execution_count": 9,
   "metadata": {
    "collapsed": false
   },
   "outputs": [],
   "source": [
    "%%capture\n",
    "rating_sf=gl.SFrame(top_ratl)\n",
    "train_sf, test_sf = gl.recommender.util.random_split_by_user(rating_sf,user_id='uid', item_id='movie_id',\n",
    "                            item_test_proportion=0.4, random_seed=0)\n"
   ]
  },
  {
   "cell_type": "code",
   "execution_count": 10,
   "metadata": {
    "collapsed": false
   },
   "outputs": [
    {
     "name": "stdout",
     "output_type": "stream",
     "text": [
      "Available Rating 95978\n",
      "Rating to be used for matrix factorization 57449\n"
     ]
    }
   ],
   "source": [
    "#Create a training dataset by removing 20% of available rating\n",
    "ratings_partial= top_rat.applymap(lambda x: x if np.random.random(1)<= .6 else None)\n",
    "print \"Available Rating\",np.sum(~np.isnan(top_rat.as_matrix()))\n",
    "print \"Rating to be used for matrix factorization\",np.sum(~np.isnan(ratings_partial.as_matrix()))"
   ]
  },
  {
   "cell_type": "markdown",
   "metadata": {},
   "source": [
    "### Item based collaborative filtering as benchmark\n",
    "In order to get idea about performance of the matrix factorization methods, a item based collaborative model is built. The performance of the item based collaboration model is used as benchmark to evaluate matrix factorization techniques. "
   ]
  },
  {
   "cell_type": "code",
   "execution_count": 11,
   "metadata": {
    "collapsed": false
   },
   "outputs": [],
   "source": [
    "%%capture\n",
    "#Build IBCF model using graphlab - using cosine similarity\n",
    "ibcm=gl.item_similarity_recommender.create(train_sf, user_id=\"uid\",\n",
    "                                           item_id=\"movie_id\",target=\"rating\",\n",
    "                                           similarity_type='cosine',only_top_k=15)\n",
    "#Make prediction\n",
    "ibcm.predict(test_sf)\n",
    "ibcm_reco=ibcm.recommend()"
   ]
  },
  {
   "cell_type": "code",
   "execution_count": 12,
   "metadata": {
    "collapsed": false
   },
   "outputs": [
    {
     "name": "stdout",
     "output_type": "stream",
     "text": [
      "IBCF - Prediction RMSE 1.02671782222\n",
      "IBCF - Precision: 0.438918345705\n"
     ]
    }
   ],
   "source": [
    "ib_pr_rec=gl.recommender.util.precision_recall_by_user(test_sf,ibcm_reco)\n",
    "ib_pr_rec_df=ib_pr_rec.to_dataframe()\n",
    "print \"IBCF - Prediction RMSE\", ibcm.evaluate_rmse(test_sf,target='rating')['rmse_overall']\n",
    "print \"IBCF - Precision:\",ib_pr_rec_df.precision.mean()"
   ]
  },
  {
   "cell_type": "markdown",
   "metadata": {},
   "source": [
    "### Utility function for recommender using Matrix Factorization  \n",
    "\n",
    "Function to get top n rating from the completed matrix"
   ]
  },
  {
   "cell_type": "code",
   "execution_count": 13,
   "metadata": {
    "collapsed": true
   },
   "outputs": [],
   "source": [
    "def get_topn(rating,n=10):\n",
    "    top_nrat=np.apply_along_axis(lambda row:np.argsort(-row)[:n],axis=1,arr=rating)\n",
    "    return top_nrat"
   ]
  },
  {
   "cell_type": "markdown",
   "metadata": {},
   "source": [
    "Compute RMSE and Precision when actual, training (i.e partial ratings) and filled matrices are provided"
   ]
  },
  {
   "cell_type": "code",
   "execution_count": 14,
   "metadata": {
    "collapsed": true
   },
   "outputs": [],
   "source": [
    "def eval_matrix_fill(actual,partial,filled,nreco=10):\n",
    "    \n",
    "    #Keep only new rating (that is remove rating present in training)\n",
    "    test=np.isnan(partial) & ~np.isnan(actual)\n",
    "    filled_new=np.copy(filled)\n",
    "    filled_new[~np.isnan(partial)]=None\n",
    "\n",
    "    rmse = np.sqrt(np.nanmean(np.square(filled[test] - actual[test])))\n",
    "    topn=get_topn(filled_new,nreco)\n",
    "    nuser,nrat=topn.shape\n",
    "    pos_rat=0.0\n",
    "    for i in range(nuser):\n",
    "        pos_rat += np.nansum(actual[i,topn[i,]]>0)\n",
    "    #print pos_rat\n",
    "    precision = pos_rat/topn.size\n",
    "    return((rmse,precision))"
   ]
  },
  {
   "cell_type": "markdown",
   "metadata": {},
   "source": [
    "### ALS using nimfa package"
   ]
  },
  {
   "cell_type": "code",
   "execution_count": 15,
   "metadata": {
    "collapsed": false
   },
   "outputs": [],
   "source": [
    "import nimfa"
   ]
  },
  {
   "cell_type": "code",
   "execution_count": 16,
   "metadata": {
    "collapsed": false
   },
   "outputs": [
    {
     "name": "stdout",
     "output_type": "stream",
     "text": [
      "U Matrix Shape (943, 10)\n",
      "V Matrix Shape (10, 1000)\n"
     ]
    }
   ],
   "source": [
    "lsnmf = nimfa.Lsnmf(ratings_partial.fillna(0).as_matrix(), max_iter=100, rank=10)\n",
    "lsnmf_fit = lsnmf()\n",
    "\n",
    "u_nifma = lsnmf_fit.basis()\n",
    "v_nifma = lsnmf_fit.coef()\n",
    "print \"U Matrix Shape\",u_nifma.shape\n",
    "print \"V Matrix Shape\",v_nifma.shape"
   ]
  },
  {
   "cell_type": "code",
   "execution_count": 17,
   "metadata": {
    "collapsed": false
   },
   "outputs": [
    {
     "name": "stdout",
     "output_type": "stream",
     "text": [
      "ALS-nifma Overall RMSE 0.770356233077\n",
      "ALS-nifma RMSE for predicted values: 0.808311621191\n",
      "ALS-nifma Precision  for predicted values: 0.469141039236\n"
     ]
    }
   ],
   "source": [
    "filled_nifma= np.dot(u_nifma,v_nifma)\n",
    "print \"ALS-nifma Overall RMSE\",np.sqrt(np.nanmean(np.square(filled_nifma-ratings_partial)))\n",
    "rmse,precision = eval_matrix_fill(top_rat.as_matrix(),ratings_partial.as_matrix(),filled_nifma)\n",
    "print \"ALS-nifma RMSE for predicted values:\",rmse\n",
    "print \"ALS-nifma Precision  for predicted values:\",precision"
   ]
  },
  {
   "cell_type": "markdown",
   "metadata": {},
   "source": [
    "### Singular Value Decomposition"
   ]
  },
  {
   "cell_type": "code",
   "execution_count": 18,
   "metadata": {
    "collapsed": false
   },
   "outputs": [],
   "source": [
    "import scipy.linalg as linalg"
   ]
  },
  {
   "cell_type": "code",
   "execution_count": 19,
   "metadata": {
    "collapsed": false
   },
   "outputs": [],
   "source": [
    "u_svd,s_svd,v_svd=linalg.svd(ratings_partial.fillna(0),full_matrices=False)"
   ]
  },
  {
   "cell_type": "markdown",
   "metadata": {},
   "source": [
    "In order to approximate the matrix the top 10 singular values are considered. Then the rating matrix is reconstructed using the 10 singular values, that is only considering most informative factors."
   ]
  },
  {
   "cell_type": "code",
   "execution_count": 20,
   "metadata": {
    "collapsed": false
   },
   "outputs": [
    {
     "name": "stdout",
     "output_type": "stream",
     "text": [
      "SVD Overall RMSE 0.754590094887\n",
      "SVD RMSE for predicted values: 0.805397310962\n",
      "SVD Precision  for predicted values: 0.490774125133\n"
     ]
    }
   ],
   "source": [
    "s_select=s_svd.copy()\n",
    "s_select[10:]=0\n",
    "filled_svd= np.dot(np.dot(u_svd,np.diag(s_select)),v_svd)\n",
    "print \"SVD Overall RMSE\",np.sqrt(np.nanmean(np.square(filled_svd-ratings_partial)))\n",
    "rmse,precision = eval_matrix_fill(top_rat.as_matrix(),ratings_partial.as_matrix(),filled_svd)\n",
    "print \"SVD RMSE for predicted values:\",rmse\n",
    "print \"SVD Precision  for predicted values:\",precision"
   ]
  },
  {
   "cell_type": "markdown",
   "metadata": {},
   "source": [
    "The SVD based method performed slightly better than ALS(from nifma package). Let's try ALS factorization with some regularization. \n",
    "\n",
    "### ALS - Function\n",
    "\n",
    "The below function is based on the function provided in https://bugra.github.io/work/notes/2014-04-19/alternating-least-squares-method-for-collaborative-filtering/"
   ]
  },
  {
   "cell_type": "code",
   "execution_count": 21,
   "metadata": {
    "collapsed": false
   },
   "outputs": [],
   "source": [
    "def als(ratings,reg=0.1,ncols=10,iterations=100):\n",
    "    errors=pd.Series(np.zeros(100))\n",
    "    m,n = ratings.shape\n",
    "    u = 5 * np.random.rand(m,ncols)  \n",
    "    v = 5 * np.random.rand(ncols, n) \n",
    "    for i in range(iterations):\n",
    "        u = np.linalg.solve(np.dot(v, v.T) + reg * np.diag([1]*ncols), \n",
    "                            np.dot(v, ratings.T)).T\n",
    "        v = np.linalg.solve(np.dot(u.T, u) + reg * np.diag([1]*ncols),\n",
    "                            np.dot(u.T, ratings))\n",
    "        ratings_approx = np.dot(u, v)\n",
    "        errors.set_value(i,np.sqrt(np.nanmean(np.square(ratings-ratings_approx))))\n",
    "    return((u,v,errors))\n"
   ]
  },
  {
   "cell_type": "markdown",
   "metadata": {},
   "source": [
    "Compute matrix factor using alternating least squares"
   ]
  },
  {
   "cell_type": "code",
   "execution_count": 22,
   "metadata": {
    "collapsed": false
   },
   "outputs": [
    {
     "data": {
      "text/plain": [
       "<matplotlib.axes._subplots.AxesSubplot at 0x7f3d8809f8d0>"
      ]
     },
     "execution_count": 22,
     "metadata": {},
     "output_type": "execute_result"
    },
    {
     "data": {
      "image/png": "[encoded data removed]",
      "text/plain": [
       "<matplotlib.figure.Figure at 0x7f3df44ef690>"
      ]
     },
     "metadata": {},
     "output_type": "display_data"
    }
   ],
   "source": [
    "als_u,als_v,errors=als(ratings_partial.fillna(0).as_matrix(),ncols=10,iterations=100) \n",
    "errors.plot(title=\"RMSE - 10 Factors\")"
   ]
  },
  {
   "cell_type": "code",
   "execution_count": 23,
   "metadata": {
    "collapsed": false
   },
   "outputs": [
    {
     "name": "stdout",
     "output_type": "stream",
     "text": [
      "ALS Overall RMSE 0.755844660453\n",
      "ALS RMSE for predicted values: 0.80644976386\n",
      "ALS Precision for predicted values: 0.490243902439\n"
     ]
    }
   ],
   "source": [
    "filled_als = np.dot(als_u,als_v)\n",
    "print \"ALS Overall RMSE\",np.sqrt(np.nanmean(np.square(filled_als-ratings_partial)))\n",
    "rmse,precision = eval_matrix_fill(top_rat.as_matrix(),ratings_partial.as_matrix(),filled_als)\n",
    "print \"ALS RMSE for predicted values:\",rmse\n",
    "print \"ALS Precision for predicted values:\",precision"
   ]
  },
  {
   "cell_type": "markdown",
   "metadata": {},
   "source": [
    "Matrix decomposition using ALS regularized provides precision rate and RMSE comparable to SVD. Let's increase the factor from 10 to 15 and check how it changes the performance."
   ]
  },
  {
   "cell_type": "code",
   "execution_count": 24,
   "metadata": {
    "collapsed": false
   },
   "outputs": [
    {
     "data": {
      "text/plain": [
       "<matplotlib.axes._subplots.AxesSubplot at 0x7f3d8808ae90>"
      ]
     },
     "execution_count": 24,
     "metadata": {},
     "output_type": "execute_result"
    },
    {
     "data": {
      "image/png": "[encoded data removed]",
      "text/plain": [
       "<matplotlib.figure.Figure at 0x7f3d60254250>"
      ]
     },
     "metadata": {},
     "output_type": "display_data"
    }
   ],
   "source": [
    "als_u,als_v,errors=als(ratings_partial.fillna(0).as_matrix(),ncols=15,iterations=100) \n",
    "errors.plot(title=\"RMSE - 15 factors\")"
   ]
  },
  {
   "cell_type": "code",
   "execution_count": 25,
   "metadata": {
    "collapsed": false
   },
   "outputs": [
    {
     "name": "stdout",
     "output_type": "stream",
     "text": [
      "ALS Overall RMSE 0.732361232859\n",
      "ALS RMSE for predicted values: 0.814608485878\n",
      "ALS Precision  for predicted values: 0.481548250265\n"
     ]
    }
   ],
   "source": [
    "filled_als = np.dot(als_u,als_v)\n",
    "print \"ALS Overall RMSE\",np.sqrt(np.nanmean(np.square(filled_als-ratings_partial)))\n",
    "rmse,precision = eval_matrix_fill(top_rat.as_matrix(),ratings_partial.as_matrix(),filled_als)\n",
    "print \"ALS RMSE for predicted values:\",rmse\n",
    "print \"ALS Precision  for predicted values:\",precision"
   ]
  },
  {
   "cell_type": "markdown",
   "metadata": {},
   "source": [
    "While the overall RMSE reduced for 15 factors compared to 10 factors, the prediction RMSE and prediction precision slightly dropped which indicates overfitting."
   ]
  },
  {
   "cell_type": "markdown",
   "metadata": {},
   "source": [
    "### Matrix factorization using Gradient Descent  \n",
    "Gradient Descent could be used to iteratively approximate the rating matrix as a product of two smaller matrices. By constructing the matrix factorization as optimization problem (i.e reducing error between original matrix and the product of factors). I used tensorflow to solve the optimization and come up with matrix factors. I tried two methods\n",
    "- Reduce total squared error between Original matrix and Product of factors (Errors are not Weighted)\n",
    "- Reduce total squared error between Original matrix and Product of factors where the errors are weighted based on wheather rating is available or not\n",
    "\n",
    "#### Non weighted Errors"
   ]
  },
  {
   "cell_type": "code",
   "execution_count": 26,
   "metadata": {
    "collapsed": true
   },
   "outputs": [],
   "source": [
    "import tensorflow as tf\n",
    "#Rating Matrix\n",
    "r = tf.placeholder(tf.float32,[943,1000])\n",
    "#U matrix\n",
    "u_grad = tf.Variable(tf.random_normal([943,10],stddev=1))\n",
    "#V matrix\n",
    "v_grad = tf.Variable(tf.random_normal([10,1000],stddev=1))\n",
    "# UV\n",
    "y = tf.matmul(u_grad, v_grad)\n",
    "#Total Error\n",
    "loss = tf.reduce_sum(tf.square(r - y))\n",
    "optimizer = tf.train.GradientDescentOptimizer(0.0001)"
   ]
  },
  {
   "cell_type": "code",
   "execution_count": 27,
   "metadata": {
    "collapsed": false
   },
   "outputs": [
    {
     "name": "stdout",
     "output_type": "stream",
     "text": [
      "loss: 4.00965e+06\n",
      "loss: 62203.7\n",
      "loss: 52872.5\n",
      "loss: 50273.2\n",
      "loss: 49937.6\n",
      "loss: 49646.7\n",
      "loss: 49246.4\n",
      "loss: 48737.6\n",
      "loss: 48192.1\n",
      "loss: 47703.4\n"
     ]
    }
   ],
   "source": [
    "#Minimize total error\n",
    "train = optimizer.minimize(loss)\n",
    "init = tf.global_variables_initializer()\n",
    "sess = tf.Session()\n",
    "sess.run(init)\n",
    "curr_u, curr_v, curr_loss = sess.run([u_grad, v_grad, loss], {r: ratings_partial.fillna(0)})\n",
    "for i in range(1000):\n",
    "    sess.run(train,{r:ratings_partial.fillna(0)})\n",
    "    curr_u, curr_v, curr_loss = sess.run([u_grad, v_grad, loss], {r: ratings_partial.fillna(0)})\n",
    "    if i % 100 == 0: print(\"loss: %s\" % (curr_loss))"
   ]
  },
  {
   "cell_type": "code",
   "execution_count": 28,
   "metadata": {
    "collapsed": false
   },
   "outputs": [
    {
     "name": "stdout",
     "output_type": "stream",
     "text": [
      "Matrix factors using GD - Overall RMSE 0.814093726878\n"
     ]
    }
   ],
   "source": [
    "filled_grad = np.dot(curr_u,curr_v)\n",
    "print \"Matrix factors using GD - Overall RMSE\",np.sqrt(np.nanmean(np.square(filled_grad-ratings_partial)))"
   ]
  },
  {
   "cell_type": "code",
   "execution_count": 29,
   "metadata": {
    "collapsed": false
   },
   "outputs": [
    {
     "name": "stdout",
     "output_type": "stream",
     "text": [
      "Matrix factors using GD - MSE for predicted values: 0.840040411033\n",
      "Matrix factors using GD - Precision  for predicted values: 0.397985153765\n"
     ]
    }
   ],
   "source": [
    "rmse,precision = eval_matrix_fill(top_rat.as_matrix(),ratings_partial.as_matrix(),filled_grad)\n",
    "print \"Matrix factors using GD - MSE for predicted values:\",rmse\n",
    "print \"Matrix factors using GD - Precision  for predicted values:\",precision"
   ]
  },
  {
   "cell_type": "markdown",
   "metadata": {},
   "source": [
    "The performance of the Gradient descent is lower than ALS or SVD based matrix factorization methods.\n",
    "\n",
    "#### Weighted Errors\n",
    "I tried to reduce error between the matrices considering entries where rating is present. That gave smallest RMSE for training (less than 0.3 ), but the precision for prediction was bad (predicted precision was less than 10% and prediction RMSE was about 0.53).  \n",
    "\n",
    "Below weight provided optimal solution\n",
    "- Entries where rating is available - Weight of 6.5\n",
    "- Entries where rating is not available - Weight of 1"
   ]
  },
  {
   "cell_type": "code",
   "execution_count": 30,
   "metadata": {
    "collapsed": true
   },
   "outputs": [],
   "source": [
    "#Set Error weights\n",
    "error_weights=ratings_partial.copy()\n",
    "error_weights[~np.isnan(ratings_partial)]=6.5\n",
    "error_weights=error_weights.fillna(1)"
   ]
  },
  {
   "cell_type": "code",
   "execution_count": 31,
   "metadata": {
    "collapsed": false
   },
   "outputs": [
    {
     "name": "stdout",
     "output_type": "stream",
     "text": [
      "loss: 3.90828e+06\n",
      "loss: 193404.0\n",
      "loss: 171810.0\n",
      "loss: 159038.0\n",
      "loss: 153144.0\n",
      "loss: 150107.0\n",
      "loss: 148245.0\n",
      "loss: 147005.0\n",
      "loss: 146156.0\n",
      "loss: 145567.0\n"
     ]
    }
   ],
   "source": [
    "#Error weight\n",
    "err_w = tf.placeholder(tf.float32,[943,1000])\n",
    "#Loss with weighted error\n",
    "loss = tf.reduce_sum(tf.multiply(tf.square(r - y),err_w))\n",
    "optimizer = tf.train.GradientDescentOptimizer(0.0001)\n",
    "train = optimizer.minimize(loss)\n",
    "init = tf.global_variables_initializer()\n",
    "sess = tf.Session()\n",
    "sess.run(init)\n",
    "curr_u, curr_v, curr_loss = sess.run([u_grad, v_grad, loss], {r: ratings_partial.fillna(0),\n",
    "                                                              err_w:error_weights})\n",
    "#print(\"u: %s v: %s loss: %s\" % (curr_u, curr_v, curr_loss))\n",
    "for i in range(1000):\n",
    "    sess.run(train,{r:ratings_partial.fillna(0),err_w:error_weights})\n",
    "    curr_u, curr_v, curr_loss = sess.run([u_grad, v_grad, loss], {r: ratings_partial.fillna(0),\n",
    "                                                                 err_w:error_weights})\n",
    "    if i % 100 == 0: print(\"loss: %s\" % (curr_loss))"
   ]
  },
  {
   "cell_type": "code",
   "execution_count": 32,
   "metadata": {
    "collapsed": false
   },
   "outputs": [
    {
     "name": "stdout",
     "output_type": "stream",
     "text": [
      "Matrix factors using GD (Weighted Errors) - Overall RMSE 0.45799591781\n"
     ]
    }
   ],
   "source": [
    "filled_gradw = np.dot(curr_u,curr_v)\n",
    "print \"Matrix factors using GD (Weighted Errors) - Overall RMSE\",\\\n",
    "           np.sqrt(np.nanmean(np.square(filled_gradw-ratings_partial)))"
   ]
  },
  {
   "cell_type": "code",
   "execution_count": 33,
   "metadata": {
    "collapsed": false
   },
   "outputs": [
    {
     "name": "stdout",
     "output_type": "stream",
     "text": [
      "Matrix factors using GD (Weighted Errors) - RMSE for predicted values: 0.528243477263\n",
      "Matrix factors using GD (Weighted Errors) - Precision  for predicted values: 0.478154825027\n"
     ]
    }
   ],
   "source": [
    "rmse,precision = eval_matrix_fill(top_rat.as_matrix(),ratings_partial.as_matrix(),filled_gradw)\n",
    "print \"Matrix factors using GD (Weighted Errors) - RMSE for predicted values:\",rmse\n",
    "print \"Matrix factors using GD (Weighted Errors) - Precision  for predicted values:\",precision"
   ]
  },
  {
   "cell_type": "markdown",
   "metadata": {},
   "source": [
    "### Summary\n",
    "\n",
    "For the movielens dataset recommendation system based on matrix factorization technique provided better precision rate compared to item based collaborative filtering. The performance of Singular Value Decomposition and Alternate Least Squares methods are performed pretty much similar. The gradient descent model's performance while no weights for errors were used was lower than ALS/SVD methods.But, I was able to improve the performance of the gradient descent based factorization model by using weighted error (with higher weight for available ratings). The matrix factorization using gradient descent with weighted error provided best RMSE (about 0.52 for predicted values) and comparable prediction precision (about 47%), but the gradient descent model was expensive in terms of computation. "
   ]
  }
 ],
 "metadata": {
  "anaconda-cloud": {},
  "kernelspec": {
   "display_name": "Python [conda env:gl-env]",
   "language": "python",
   "name": "conda-env-gl-env-py"
  },
  "language_info": {
   "codemirror_mode": {
    "name": "ipython",
    "version": 2
   },
   "file_extension": ".py",
   "mimetype": "text/x-python",
   "name": "python",
   "nbconvert_exporter": "python",
   "pygments_lexer": "ipython2",
   "version": "2.7.12"
  }
 },
 "nbformat": 4,
 "nbformat_minor": 0
}
