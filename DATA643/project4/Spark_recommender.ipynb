{
 "cells": [
  {
   "cell_type": "markdown",
   "metadata": {},
   "source": [
    "## Recommender System using Spark and PySpark\n",
    "\n",
    "This project demonstrate building recommender system using Spark\n",
    "Two methods are demonstrated for recommendation\n",
    "- Using Spark ALS matrix factorization\n",
    "- Manually Coded User Collaboration using map reduce framework"
   ]
  },
  {
   "cell_type": "code",
   "execution_count": 1,
   "metadata": {
    "collapsed": false,
    "deletable": true,
    "editable": true
   },
   "outputs": [],
   "source": [
    "#Load pyspark\n",
    "import findspark\n",
    "import os\n",
    "findspark.init(\"/root/spark\")\n",
    "\n",
    "import pyspark\n",
    "sc = pyspark.SparkContext()"
   ]
  },
  {
   "cell_type": "markdown",
   "metadata": {},
   "source": [
    "The above code enables spark on this notebook and loads pyspark"
   ]
  },
  {
   "cell_type": "code",
   "execution_count": 2,
   "metadata": {
    "collapsed": true,
    "deletable": true,
    "editable": true
   },
   "outputs": [],
   "source": [
    "from pyspark.ml.evaluation import RegressionEvaluator\n",
    "from pyspark.ml.recommendation import ALS\n",
    "from pyspark.sql import Row"
   ]
  },
  {
   "cell_type": "markdown",
   "metadata": {},
   "source": [
    "Load Spark Session"
   ]
  },
  {
   "cell_type": "code",
   "execution_count": 3,
   "metadata": {
    "collapsed": false,
    "deletable": true,
    "editable": true
   },
   "outputs": [],
   "source": [
    "from pyspark.sql import SparkSession\n",
    "spark = SparkSession\\\n",
    "        .builder\\\n",
    "        .appName(\"ALSExample\")\\\n",
    "        .getOrCreate()"
   ]
  },
  {
   "cell_type": "markdown",
   "metadata": {},
   "source": [
    "### Read File\n",
    "Read file from Haddop, parse the file and map fields to correct format"
   ]
  },
  {
   "cell_type": "code",
   "execution_count": 4,
   "metadata": {
    "collapsed": false,
    "deletable": true,
    "editable": true
   },
   "outputs": [],
   "source": [
    "file_data = spark.read.text(\"/u.data\").rdd\n"
   ]
  },
  {
   "cell_type": "code",
   "execution_count": 5,
   "metadata": {
    "collapsed": true,
    "deletable": true,
    "editable": true
   },
   "outputs": [],
   "source": [
    "rating = file_data.map(lambda row: row.value.split(\"\\t\"))"
   ]
  },
  {
   "cell_type": "markdown",
   "metadata": {},
   "source": [
    "Let's define a function to make printing rdd and dataframe head (that is to see top rows)"
   ]
  },
  {
   "cell_type": "code",
   "execution_count": 6,
   "metadata": {
    "collapsed": false,
    "deletable": true,
    "editable": true
   },
   "outputs": [],
   "source": [
    "def print_head(data,n=5):\n",
    "    for row in data.take(n):\n",
    "        print row\n",
    "    "
   ]
  },
  {
   "cell_type": "code",
   "execution_count": 7,
   "metadata": {
    "collapsed": false,
    "deletable": true,
    "editable": true
   },
   "outputs": [
    {
     "name": "stdout",
     "output_type": "stream",
     "text": [
      "[u'196', u'242', u'3', u'881250949']\n",
      "[u'186', u'302', u'3', u'891717742']\n",
      "[u'22', u'377', u'1', u'878887116']\n",
      "[u'244', u'51', u'2', u'880606923']\n",
      "[u'166', u'346', u'1', u'886397596']\n"
     ]
    }
   ],
   "source": [
    "print_head(rating)"
   ]
  },
  {
   "cell_type": "code",
   "execution_count": 8,
   "metadata": {
    "collapsed": false,
    "deletable": true,
    "editable": true
   },
   "outputs": [],
   "source": [
    "ratingsRDD = rating.map(lambda p: Row(userId=int(p[0]), movieId=int(p[1]),\n",
    "                                     rating=float(p[2])))\n",
    "\n"
   ]
  },
  {
   "cell_type": "code",
   "execution_count": 9,
   "metadata": {
    "collapsed": false,
    "deletable": true,
    "editable": true
   },
   "outputs": [
    {
     "name": "stdout",
     "output_type": "stream",
     "text": [
      "Row(movieId=242, rating=3.0, userId=196)\n",
      "Row(movieId=302, rating=3.0, userId=186)\n",
      "Row(movieId=377, rating=1.0, userId=22)\n",
      "Row(movieId=51, rating=2.0, userId=244)\n",
      "Row(movieId=346, rating=1.0, userId=166)\n"
     ]
    }
   ],
   "source": [
    "print_head(ratingsRDD)"
   ]
  },
  {
   "cell_type": "code",
   "execution_count": 10,
   "metadata": {
    "collapsed": false,
    "deletable": true,
    "editable": true
   },
   "outputs": [
    {
     "data": {
      "text/plain": [
       "100000"
      ]
     },
     "execution_count": 10,
     "metadata": {},
     "output_type": "execute_result"
    }
   ],
   "source": [
    "ratingsRDD.count()"
   ]
  },
  {
   "cell_type": "markdown",
   "metadata": {},
   "source": [
    "### Rating Distribution"
   ]
  },
  {
   "cell_type": "code",
   "execution_count": 11,
   "metadata": {
    "collapsed": false,
    "deletable": true,
    "editable": true
   },
   "outputs": [],
   "source": [
    "rate_count=ratingsRDD.map(lambda x: (x.rating,1)).countByKey()"
   ]
  },
  {
   "cell_type": "code",
   "execution_count": 12,
   "metadata": {
    "collapsed": false,
    "deletable": true,
    "editable": true
   },
   "outputs": [
    {
     "name": "stdout",
     "output_type": "stream",
     "text": [
      "defaultdict(<type 'int'>, {1.0: 6110, 2.0: 11370, 3.0: 27145, 4.0: 34174, 5.0: 21201})\n"
     ]
    }
   ],
   "source": [
    "print rate_count"
   ]
  },
  {
   "cell_type": "code",
   "execution_count": 13,
   "metadata": {
    "collapsed": false,
    "deletable": true,
    "editable": true
   },
   "outputs": [
    {
     "data": {
      "image/png": "[encoded data removed]",
      "text/plain": [
       "<matplotlib.figure.Figure at 0x7ff138669f90>"
      ]
     },
     "metadata": {},
     "output_type": "display_data"
    }
   ],
   "source": [
    "import matplotlib.pyplot as plt\n",
    "import matplotlib\n",
    "matplotlib.rcParams['figure.figsize'] = (10, 6)\n",
    "plt.figure()\n",
    "plt.bar(rate_count.keys(),rate_count.values())\n",
    "plt.show()"
   ]
  },
  {
   "cell_type": "markdown",
   "metadata": {},
   "source": [
    "### User Rating Frequency"
   ]
  },
  {
   "cell_type": "code",
   "execution_count": 14,
   "metadata": {
    "collapsed": false,
    "deletable": true,
    "editable": true,
    "scrolled": true
   },
   "outputs": [],
   "source": [
    "usr_rate_count=ratingsRDD.map(lambda x: (x.userId,1)).countByKey()\n",
    "#count_freq=.map(lambda x:x[1]).countByKey()"
   ]
  },
  {
   "cell_type": "code",
   "execution_count": 15,
   "metadata": {
    "collapsed": false,
    "deletable": true,
    "editable": true
   },
   "outputs": [
    {
     "data": {
      "image/png": "[encoded data removed]",
      "text/plain": [
       "<matplotlib.figure.Figure at 0x7ff1385dca50>"
      ]
     },
     "metadata": {},
     "output_type": "display_data"
    }
   ],
   "source": [
    "\n",
    "plt.hist(usr_rate_count.values(),50)\n",
    "plt.show()"
   ]
  },
  {
   "cell_type": "markdown",
   "metadata": {},
   "source": [
    "Let's keep users who have provided 21 or more ratings"
   ]
  },
  {
   "cell_type": "code",
   "execution_count": 16,
   "metadata": {
    "collapsed": true,
    "deletable": true,
    "editable": true
   },
   "outputs": [],
   "source": [
    "usr_nrating=sc.broadcast(usr_rate_count)"
   ]
  },
  {
   "cell_type": "code",
   "execution_count": 17,
   "metadata": {
    "collapsed": true,
    "deletable": true,
    "editable": true
   },
   "outputs": [],
   "source": [
    "ratingsRDD=ratingsRDD.filter(lambda x: usr_nrating.value[x.userId] > 20)"
   ]
  },
  {
   "cell_type": "code",
   "execution_count": 18,
   "metadata": {
    "collapsed": false,
    "deletable": true,
    "editable": true
   },
   "outputs": [
    {
     "data": {
      "text/plain": [
       "99360"
      ]
     },
     "execution_count": 18,
     "metadata": {},
     "output_type": "execute_result"
    }
   ],
   "source": [
    "ratingsRDD.count()"
   ]
  },
  {
   "cell_type": "markdown",
   "metadata": {},
   "source": [
    "Split dataset by training and testing"
   ]
  },
  {
   "cell_type": "code",
   "execution_count": 19,
   "metadata": {
    "collapsed": true,
    "deletable": true,
    "editable": true
   },
   "outputs": [],
   "source": [
    "ratings_df = spark.createDataFrame(ratingsRDD)\n",
    "(training, test) = ratings_df.randomSplit([0.8, 0.2])"
   ]
  },
  {
   "cell_type": "markdown",
   "metadata": {},
   "source": [
    "Build alternate least square model"
   ]
  },
  {
   "cell_type": "code",
   "execution_count": 20,
   "metadata": {
    "collapsed": true,
    "deletable": true,
    "editable": true
   },
   "outputs": [],
   "source": [
    "als = ALS(maxIter=5, regParam=0.01, userCol=\"userId\", itemCol=\"movieId\", ratingCol=\"rating\")\n",
    "model = als.fit(training)"
   ]
  },
  {
   "cell_type": "code",
   "execution_count": 21,
   "metadata": {
    "collapsed": false,
    "deletable": true,
    "editable": true
   },
   "outputs": [],
   "source": [
    "pred = model.transform(test)"
   ]
  },
  {
   "cell_type": "code",
   "execution_count": 22,
   "metadata": {
    "collapsed": true,
    "deletable": true,
    "editable": true
   },
   "outputs": [],
   "source": [
    "pred1=pred.dropna()\n",
    "pred1=pred1.orderBy(pred.prediction.desc())"
   ]
  },
  {
   "cell_type": "code",
   "execution_count": 23,
   "metadata": {
    "collapsed": false,
    "deletable": true,
    "editable": true
   },
   "outputs": [
    {
     "name": "stdout",
     "output_type": "stream",
     "text": [
      "1.06149221554\n"
     ]
    }
   ],
   "source": [
    "rmse_eval = RegressionEvaluator(metricName=\"rmse\", labelCol=\"rating\",\n",
    "                                predictionCol=\"prediction\")\n",
    "rmse = rmse_eval.evaluate(pred1)\n",
    "print rmse"
   ]
  },
  {
   "cell_type": "markdown",
   "metadata": {},
   "source": [
    "The RMSE is reasonable given that we used raw scores. "
   ]
  },
  {
   "cell_type": "code",
   "execution_count": 24,
   "metadata": {
    "collapsed": false,
    "deletable": true,
    "editable": true
   },
   "outputs": [
    {
     "name": "stdout",
     "output_type": "stream",
     "text": [
      "Row(movieId=458, rating=1.0, userId=121, prediction=1.999855637550354)\n",
      "Row(movieId=192, rating=4.0, userId=121, prediction=3.8486106395721436)\n",
      "Row(movieId=57, rating=5.0, userId=121, prediction=5.027899742126465)\n",
      "Row(movieId=117, rating=1.0, userId=121, prediction=3.138828992843628)\n",
      "Row(movieId=1194, rating=4.0, userId=121, prediction=3.686807632446289)\n"
     ]
    }
   ],
   "source": [
    "print_head(pred.filter(\"userId==121\"))"
   ]
  },
  {
   "cell_type": "markdown",
   "metadata": {},
   "source": [
    "## User Based Collabrative Filtering\n",
    "\n",
    "Let's combine user rating by userid so that we could process the ratings for the user"
   ]
  },
  {
   "cell_type": "code",
   "execution_count": 19,
   "metadata": {
    "collapsed": false,
    "deletable": true,
    "editable": true
   },
   "outputs": [],
   "source": [
    "def dict_update(x,y):\n",
    "    x.update(y)\n",
    "    return x\n",
    "rating_byuser=ratingsRDD.map(lambda x:(x.userId,({x.movieId:x.rating}))).\\\n",
    "aggregateByKey({},lambda x,y:dict_update(x,y),lambda x,y:dict_update(x,y))"
   ]
  },
  {
   "cell_type": "markdown",
   "metadata": {},
   "source": [
    "The ratings are converted to (User, rating-dictionary) format"
   ]
  },
  {
   "cell_type": "code",
   "execution_count": 20,
   "metadata": {
    "collapsed": false,
    "deletable": true,
    "editable": true
   },
   "outputs": [
    {
     "name": "stdout",
     "output_type": "stream",
     "text": [
      "(1, {1: 5.0, 2: 3.0, 3: 4.0, 4: 3.0, 5: 3.0, 6: 5.0, 7: 4.0, 8: 1.0, 9: 5.0, 10: 3.0, 11: 2.0, 12: 5.0, 13: 5.0, 14: 5.0, 15: 5.0, 16: 5.0, 17: 3.0, 18: 4.0, 19: 5.0, 20: 4.0, 21: 1.0, 22: 4.0, 23: 4.0, 24: 3.0, 25: 4.0, 26: 3.0, 27: 2.0, 28: 4.0, 29: 1.0, 30: 3.0, 31: 3.0, 32: 5.0, 33: 4.0, 34: 2.0, 35: 1.0, 36: 2.0, 37: 2.0, 38: 3.0, 39: 4.0, 40: 3.0, 41: 2.0, 42: 5.0, 43: 4.0, 44: 5.0, 45: 5.0, 46: 4.0, 47: 4.0, 48: 5.0, 49: 3.0, 50: 5.0, 51: 4.0, 52: 4.0, 53: 3.0, 54: 3.0, 55: 5.0, 56: 4.0, 57: 5.0, 58: 4.0, 59: 5.0, 60: 5.0, 61: 4.0, 62: 3.0, 63: 2.0, 64: 5.0, 65: 4.0, 66: 4.0, 67: 3.0, 68: 4.0, 69: 3.0, 70: 3.0, 71: 3.0, 72: 4.0, 73: 3.0, 74: 1.0, 75: 4.0, 76: 4.0, 77: 4.0, 78: 1.0, 79: 4.0, 80: 4.0, 81: 5.0, 82: 5.0, 83: 3.0, 84: 4.0, 85: 3.0, 86: 5.0, 87: 5.0, 88: 4.0, 89: 5.0, 90: 4.0, 91: 5.0, 92: 3.0, 93: 5.0, 94: 2.0, 95: 4.0, 96: 5.0, 97: 3.0, 98: 4.0, 99: 3.0, 100: 5.0, 101: 2.0, 102: 2.0, 103: 1.0, 104: 1.0, 105: 2.0, 106: 4.0, 107: 4.0, 108: 5.0, 109: 5.0, 110: 1.0, 111: 5.0, 112: 1.0, 113: 5.0, 114: 5.0, 115: 5.0, 116: 3.0, 117: 3.0, 118: 3.0, 119: 5.0, 120: 1.0, 121: 4.0, 122: 3.0, 123: 4.0, 124: 5.0, 125: 3.0, 126: 2.0, 127: 5.0, 128: 4.0, 129: 5.0, 130: 3.0, 131: 1.0, 132: 4.0, 133: 4.0, 134: 4.0, 135: 4.0, 136: 3.0, 137: 5.0, 138: 1.0, 139: 3.0, 140: 1.0, 141: 3.0, 142: 2.0, 143: 1.0, 144: 4.0, 145: 2.0, 146: 4.0, 147: 3.0, 148: 2.0, 149: 2.0, 150: 5.0, 151: 4.0, 152: 5.0, 153: 3.0, 154: 5.0, 155: 2.0, 156: 4.0, 157: 4.0, 158: 3.0, 159: 3.0, 160: 4.0, 161: 4.0, 162: 4.0, 163: 4.0, 164: 3.0, 165: 5.0, 166: 5.0, 167: 2.0, 168: 5.0, 169: 5.0, 170: 5.0, 171: 5.0, 172: 5.0, 173: 5.0, 174: 5.0, 175: 5.0, 176: 5.0, 177: 5.0, 178: 5.0, 179: 3.0, 180: 3.0, 181: 5.0, 182: 4.0, 183: 5.0, 184: 4.0, 185: 4.0, 186: 4.0, 187: 4.0, 188: 3.0, 189: 3.0, 190: 5.0, 191: 5.0, 192: 4.0, 193: 4.0, 194: 4.0, 195: 5.0, 196: 5.0, 197: 5.0, 198: 5.0, 199: 4.0, 200: 3.0, 201: 3.0, 202: 5.0, 203: 4.0, 204: 5.0, 205: 3.0, 206: 4.0, 207: 5.0, 208: 5.0, 209: 4.0, 210: 4.0, 211: 3.0, 212: 4.0, 213: 2.0, 214: 4.0, 215: 3.0, 216: 5.0, 217: 3.0, 218: 3.0, 219: 1.0, 220: 3.0, 221: 5.0, 222: 4.0, 223: 5.0, 224: 5.0, 225: 2.0, 226: 3.0, 227: 4.0, 228: 5.0, 229: 4.0, 230: 4.0, 231: 1.0, 232: 3.0, 233: 2.0, 234: 4.0, 235: 5.0, 236: 4.0, 237: 2.0, 238: 4.0, 239: 4.0, 240: 3.0, 241: 4.0, 242: 5.0, 243: 1.0, 244: 2.0, 245: 2.0, 246: 5.0, 247: 1.0, 248: 4.0, 249: 4.0, 250: 4.0, 251: 4.0, 252: 2.0, 253: 5.0, 254: 1.0, 255: 2.0, 256: 4.0, 257: 4.0, 258: 5.0, 259: 1.0, 260: 1.0, 261: 1.0, 262: 3.0, 263: 1.0, 264: 2.0, 265: 4.0, 266: 1.0, 267: 4.0, 268: 5.0, 269: 5.0, 270: 5.0, 271: 2.0, 272: 3.0})\n"
     ]
    }
   ],
   "source": [
    "print_head(rating_byuser,1)"
   ]
  },
  {
   "cell_type": "markdown",
   "metadata": {},
   "source": [
    "#### User Pair\n",
    "In order to compute user similarity we need to compare users. As we will be using long format we do this by pairing up a user with all other users."
   ]
  },
  {
   "cell_type": "code",
   "execution_count": 21,
   "metadata": {
    "collapsed": false,
    "deletable": true,
    "editable": true
   },
   "outputs": [],
   "source": [
    "user_pair=rating_byuser.cartesian(rating_byuser).filter(lambda x: x[0][0]!=x[1][0])"
   ]
  },
  {
   "cell_type": "code",
   "execution_count": 22,
   "metadata": {
    "collapsed": false,
    "deletable": true,
    "editable": true
   },
   "outputs": [
    {
     "name": "stdout",
     "output_type": "stream",
     "text": [
      "((1, {1: 5.0, 2: 3.0, 3: 4.0, 4: 3.0, 5: 3.0, 6: 5.0, 7: 4.0, 8: 1.0, 9: 5.0, 10: 3.0, 11: 2.0, 12: 5.0, 13: 5.0, 14: 5.0, 15: 5.0, 16: 5.0, 17: 3.0, 18: 4.0, 19: 5.0, 20: 4.0, 21: 1.0, 22: 4.0, 23: 4.0, 24: 3.0, 25: 4.0, 26: 3.0, 27: 2.0, 28: 4.0, 29: 1.0, 30: 3.0, 31: 3.0, 32: 5.0, 33: 4.0, 34: 2.0, 35: 1.0, 36: 2.0, 37: 2.0, 38: 3.0, 39: 4.0, 40: 3.0, 41: 2.0, 42: 5.0, 43: 4.0, 44: 5.0, 45: 5.0, 46: 4.0, 47: 4.0, 48: 5.0, 49: 3.0, 50: 5.0, 51: 4.0, 52: 4.0, 53: 3.0, 54: 3.0, 55: 5.0, 56: 4.0, 57: 5.0, 58: 4.0, 59: 5.0, 60: 5.0, 61: 4.0, 62: 3.0, 63: 2.0, 64: 5.0, 65: 4.0, 66: 4.0, 67: 3.0, 68: 4.0, 69: 3.0, 70: 3.0, 71: 3.0, 72: 4.0, 73: 3.0, 74: 1.0, 75: 4.0, 76: 4.0, 77: 4.0, 78: 1.0, 79: 4.0, 80: 4.0, 81: 5.0, 82: 5.0, 83: 3.0, 84: 4.0, 85: 3.0, 86: 5.0, 87: 5.0, 88: 4.0, 89: 5.0, 90: 4.0, 91: 5.0, 92: 3.0, 93: 5.0, 94: 2.0, 95: 4.0, 96: 5.0, 97: 3.0, 98: 4.0, 99: 3.0, 100: 5.0, 101: 2.0, 102: 2.0, 103: 1.0, 104: 1.0, 105: 2.0, 106: 4.0, 107: 4.0, 108: 5.0, 109: 5.0, 110: 1.0, 111: 5.0, 112: 1.0, 113: 5.0, 114: 5.0, 115: 5.0, 116: 3.0, 117: 3.0, 118: 3.0, 119: 5.0, 120: 1.0, 121: 4.0, 122: 3.0, 123: 4.0, 124: 5.0, 125: 3.0, 126: 2.0, 127: 5.0, 128: 4.0, 129: 5.0, 130: 3.0, 131: 1.0, 132: 4.0, 133: 4.0, 134: 4.0, 135: 4.0, 136: 3.0, 137: 5.0, 138: 1.0, 139: 3.0, 140: 1.0, 141: 3.0, 142: 2.0, 143: 1.0, 144: 4.0, 145: 2.0, 146: 4.0, 147: 3.0, 148: 2.0, 149: 2.0, 150: 5.0, 151: 4.0, 152: 5.0, 153: 3.0, 154: 5.0, 155: 2.0, 156: 4.0, 157: 4.0, 158: 3.0, 159: 3.0, 160: 4.0, 161: 4.0, 162: 4.0, 163: 4.0, 164: 3.0, 165: 5.0, 166: 5.0, 167: 2.0, 168: 5.0, 169: 5.0, 170: 5.0, 171: 5.0, 172: 5.0, 173: 5.0, 174: 5.0, 175: 5.0, 176: 5.0, 177: 5.0, 178: 5.0, 179: 3.0, 180: 3.0, 181: 5.0, 182: 4.0, 183: 5.0, 184: 4.0, 185: 4.0, 186: 4.0, 187: 4.0, 188: 3.0, 189: 3.0, 190: 5.0, 191: 5.0, 192: 4.0, 193: 4.0, 194: 4.0, 195: 5.0, 196: 5.0, 197: 5.0, 198: 5.0, 199: 4.0, 200: 3.0, 201: 3.0, 202: 5.0, 203: 4.0, 204: 5.0, 205: 3.0, 206: 4.0, 207: 5.0, 208: 5.0, 209: 4.0, 210: 4.0, 211: 3.0, 212: 4.0, 213: 2.0, 214: 4.0, 215: 3.0, 216: 5.0, 217: 3.0, 218: 3.0, 219: 1.0, 220: 3.0, 221: 5.0, 222: 4.0, 223: 5.0, 224: 5.0, 225: 2.0, 226: 3.0, 227: 4.0, 228: 5.0, 229: 4.0, 230: 4.0, 231: 1.0, 232: 3.0, 233: 2.0, 234: 4.0, 235: 5.0, 236: 4.0, 237: 2.0, 238: 4.0, 239: 4.0, 240: 3.0, 241: 4.0, 242: 5.0, 243: 1.0, 244: 2.0, 245: 2.0, 246: 5.0, 247: 1.0, 248: 4.0, 249: 4.0, 250: 4.0, 251: 4.0, 252: 2.0, 253: 5.0, 254: 1.0, 255: 2.0, 256: 4.0, 257: 4.0, 258: 5.0, 259: 1.0, 260: 1.0, 261: 1.0, 262: 3.0, 263: 1.0, 264: 2.0, 265: 4.0, 266: 1.0, 267: 4.0, 268: 5.0, 269: 5.0, 270: 5.0, 271: 2.0, 272: 3.0}), (2, {257: 4.0, 258: 3.0, 1: 4.0, 10: 2.0, 13: 4.0, 14: 4.0, 272: 5.0, 273: 4.0, 274: 3.0, 19: 3.0, 276: 4.0, 277: 4.0, 278: 3.0, 279: 4.0, 280: 3.0, 25: 4.0, 282: 4.0, 283: 5.0, 284: 4.0, 285: 5.0, 286: 4.0, 287: 3.0, 288: 3.0, 289: 3.0, 290: 3.0, 291: 3.0, 292: 4.0, 293: 4.0, 294: 1.0, 295: 4.0, 296: 3.0, 297: 4.0, 298: 3.0, 299: 4.0, 300: 4.0, 301: 4.0, 302: 5.0, 303: 4.0, 304: 4.0, 305: 3.0, 306: 4.0, 307: 3.0, 308: 3.0, 309: 1.0, 310: 4.0, 311: 5.0, 312: 3.0, 313: 5.0, 314: 1.0, 315: 1.0, 316: 5.0, 269: 4.0, 255: 4.0, 50: 5.0, 100: 5.0, 237: 4.0, 111: 4.0, 242: 5.0, 275: 5.0, 251: 5.0, 281: 3.0, 127: 5.0}))\n"
     ]
    }
   ],
   "source": [
    "print_head(user_pair,1)"
   ]
  },
  {
   "cell_type": "markdown",
   "metadata": {
    "collapsed": true,
    "deletable": true,
    "editable": true
   },
   "source": [
    "### Function to compute user similarity (using pearson coefficient)\n",
    "\n",
    "            "
   ]
  },
  {
   "cell_type": "code",
   "execution_count": 24,
   "metadata": {
    "collapsed": false,
    "deletable": true,
    "editable": true
   },
   "outputs": [],
   "source": [
    "def user_similarity(x):\n",
    "    user1=x[0][0]\n",
    "    user2=x[1][0]\n",
    "    rating1=x[0][1]\n",
    "    rating2=x[1][1]\n",
    "    x1=[]\n",
    "    x2=[]\n",
    "    for key in rating1.keys():\n",
    "        if key in rating2.keys():\n",
    "            x1 = x1 + [rating1[key]]\n",
    "            x2 = x2 + [rating2[key]]\n",
    "    corr=0\n",
    "    if len(x1) > 3:\n",
    "        x1_mean=sum(x1)/len(x1)\n",
    "        x2_mean=sum(x2)/len(x2)\n",
    "        x1_cent=[ax - x1_mean for ax in x1]\n",
    "        x2_cent=[ax - x2_mean for ax in x2]\n",
    "        x_sum=sum([ax*ay for ax,ay in zip(x1_cent,x2_cent)])\n",
    "        x1_sqsum=sum([ax**2 for ax in x1_cent])**0.5\n",
    "        x2_sqsum=sum([ax**2 for ax in x2_cent])**0.5\n",
    "        sqsum_prod = x1_sqsum*x2_sqsum\n",
    "        if sqsum_prod !=0:\n",
    "            corr=x_sum/(x1_sqsum*x2_sqsum)\n",
    "    return (x[0],x[1],corr)"
   ]
  },
  {
   "cell_type": "code",
   "execution_count": 26,
   "metadata": {
    "collapsed": true,
    "deletable": true,
    "editable": true
   },
   "outputs": [],
   "source": [
    "user_pair_sim=user_pair.map(user_similarity)"
   ]
  },
  {
   "cell_type": "code",
   "execution_count": 27,
   "metadata": {
    "collapsed": false,
    "deletable": true,
    "editable": true
   },
   "outputs": [
    {
     "name": "stdout",
     "output_type": "stream",
     "text": [
      "((1, {1: 5.0, 2: 3.0, 3: 4.0, 4: 3.0, 5: 3.0, 6: 5.0, 7: 4.0, 8: 1.0, 9: 5.0, 10: 3.0, 11: 2.0, 12: 5.0, 13: 5.0, 14: 5.0, 15: 5.0, 16: 5.0, 17: 3.0, 18: 4.0, 19: 5.0, 20: 4.0, 21: 1.0, 22: 4.0, 23: 4.0, 24: 3.0, 25: 4.0, 26: 3.0, 27: 2.0, 28: 4.0, 29: 1.0, 30: 3.0, 31: 3.0, 32: 5.0, 33: 4.0, 34: 2.0, 35: 1.0, 36: 2.0, 37: 2.0, 38: 3.0, 39: 4.0, 40: 3.0, 41: 2.0, 42: 5.0, 43: 4.0, 44: 5.0, 45: 5.0, 46: 4.0, 47: 4.0, 48: 5.0, 49: 3.0, 50: 5.0, 51: 4.0, 52: 4.0, 53: 3.0, 54: 3.0, 55: 5.0, 56: 4.0, 57: 5.0, 58: 4.0, 59: 5.0, 60: 5.0, 61: 4.0, 62: 3.0, 63: 2.0, 64: 5.0, 65: 4.0, 66: 4.0, 67: 3.0, 68: 4.0, 69: 3.0, 70: 3.0, 71: 3.0, 72: 4.0, 73: 3.0, 74: 1.0, 75: 4.0, 76: 4.0, 77: 4.0, 78: 1.0, 79: 4.0, 80: 4.0, 81: 5.0, 82: 5.0, 83: 3.0, 84: 4.0, 85: 3.0, 86: 5.0, 87: 5.0, 88: 4.0, 89: 5.0, 90: 4.0, 91: 5.0, 92: 3.0, 93: 5.0, 94: 2.0, 95: 4.0, 96: 5.0, 97: 3.0, 98: 4.0, 99: 3.0, 100: 5.0, 101: 2.0, 102: 2.0, 103: 1.0, 104: 1.0, 105: 2.0, 106: 4.0, 107: 4.0, 108: 5.0, 109: 5.0, 110: 1.0, 111: 5.0, 112: 1.0, 113: 5.0, 114: 5.0, 115: 5.0, 116: 3.0, 117: 3.0, 118: 3.0, 119: 5.0, 120: 1.0, 121: 4.0, 122: 3.0, 123: 4.0, 124: 5.0, 125: 3.0, 126: 2.0, 127: 5.0, 128: 4.0, 129: 5.0, 130: 3.0, 131: 1.0, 132: 4.0, 133: 4.0, 134: 4.0, 135: 4.0, 136: 3.0, 137: 5.0, 138: 1.0, 139: 3.0, 140: 1.0, 141: 3.0, 142: 2.0, 143: 1.0, 144: 4.0, 145: 2.0, 146: 4.0, 147: 3.0, 148: 2.0, 149: 2.0, 150: 5.0, 151: 4.0, 152: 5.0, 153: 3.0, 154: 5.0, 155: 2.0, 156: 4.0, 157: 4.0, 158: 3.0, 159: 3.0, 160: 4.0, 161: 4.0, 162: 4.0, 163: 4.0, 164: 3.0, 165: 5.0, 166: 5.0, 167: 2.0, 168: 5.0, 169: 5.0, 170: 5.0, 171: 5.0, 172: 5.0, 173: 5.0, 174: 5.0, 175: 5.0, 176: 5.0, 177: 5.0, 178: 5.0, 179: 3.0, 180: 3.0, 181: 5.0, 182: 4.0, 183: 5.0, 184: 4.0, 185: 4.0, 186: 4.0, 187: 4.0, 188: 3.0, 189: 3.0, 190: 5.0, 191: 5.0, 192: 4.0, 193: 4.0, 194: 4.0, 195: 5.0, 196: 5.0, 197: 5.0, 198: 5.0, 199: 4.0, 200: 3.0, 201: 3.0, 202: 5.0, 203: 4.0, 204: 5.0, 205: 3.0, 206: 4.0, 207: 5.0, 208: 5.0, 209: 4.0, 210: 4.0, 211: 3.0, 212: 4.0, 213: 2.0, 214: 4.0, 215: 3.0, 216: 5.0, 217: 3.0, 218: 3.0, 219: 1.0, 220: 3.0, 221: 5.0, 222: 4.0, 223: 5.0, 224: 5.0, 225: 2.0, 226: 3.0, 227: 4.0, 228: 5.0, 229: 4.0, 230: 4.0, 231: 1.0, 232: 3.0, 233: 2.0, 234: 4.0, 235: 5.0, 236: 4.0, 237: 2.0, 238: 4.0, 239: 4.0, 240: 3.0, 241: 4.0, 242: 5.0, 243: 1.0, 244: 2.0, 245: 2.0, 246: 5.0, 247: 1.0, 248: 4.0, 249: 4.0, 250: 4.0, 251: 4.0, 252: 2.0, 253: 5.0, 254: 1.0, 255: 2.0, 256: 4.0, 257: 4.0, 258: 5.0, 259: 1.0, 260: 1.0, 261: 1.0, 262: 3.0, 263: 1.0, 264: 2.0, 265: 4.0, 266: 1.0, 267: 4.0, 268: 5.0, 269: 5.0, 270: 5.0, 271: 2.0, 272: 3.0}), (2, {257: 4.0, 258: 3.0, 1: 4.0, 10: 2.0, 13: 4.0, 14: 4.0, 272: 5.0, 273: 4.0, 274: 3.0, 19: 3.0, 276: 4.0, 277: 4.0, 278: 3.0, 279: 4.0, 280: 3.0, 25: 4.0, 282: 4.0, 283: 5.0, 284: 4.0, 285: 5.0, 286: 4.0, 287: 3.0, 288: 3.0, 289: 3.0, 290: 3.0, 291: 3.0, 292: 4.0, 293: 4.0, 294: 1.0, 295: 4.0, 296: 3.0, 297: 4.0, 298: 3.0, 299: 4.0, 300: 4.0, 301: 4.0, 302: 5.0, 303: 4.0, 304: 4.0, 305: 3.0, 306: 4.0, 307: 3.0, 308: 3.0, 309: 1.0, 310: 4.0, 311: 5.0, 312: 3.0, 313: 5.0, 314: 1.0, 315: 1.0, 316: 5.0, 269: 4.0, 255: 4.0, 50: 5.0, 100: 5.0, 237: 4.0, 111: 4.0, 242: 5.0, 275: 5.0, 251: 5.0, 281: 3.0, 127: 5.0}), 0.16084123285436974)\n"
     ]
    }
   ],
   "source": [
    "print_head(user_pair_sim,1)"
   ]
  },
  {
   "cell_type": "markdown",
   "metadata": {},
   "source": [
    "Let's define a function to compute collaborative rating score"
   ]
  },
  {
   "cell_type": "code",
   "execution_count": 28,
   "metadata": {
    "collapsed": true,
    "deletable": true,
    "editable": true
   },
   "outputs": [],
   "source": [
    "def user_collab_rating(x):\n",
    "    user2_rating=x[1][1]\n",
    "    corr=x[2]\n",
    "    for key in user2_rating:\n",
    "        if (corr!=0):\n",
    "            user2_rating[key]=corr*user2_rating[key]\n",
    "        else:\n",
    "            user2_rating[key]=0\n",
    "    return(x[0][0],user2_rating)\n"
   ]
  },
  {
   "cell_type": "markdown",
   "metadata": {},
   "source": [
    "#### Function to reduce two dictionary by adding the values "
   ]
  },
  {
   "cell_type": "code",
   "execution_count": 30,
   "metadata": {
    "collapsed": true,
    "deletable": true,
    "editable": true
   },
   "outputs": [],
   "source": [
    "def add_dict(a,b):\n",
    "    return dict(a.items() + b.items() + [(k, a[k] + b[k]) for k in set(b) & set(a)])"
   ]
  },
  {
   "cell_type": "markdown",
   "metadata": {
    "collapsed": false,
    "deletable": true,
    "editable": true
   },
   "source": [
    "Function to get Recommendation for user from every other user"
   ]
  },
  {
   "cell_type": "code",
   "execution_count": 34,
   "metadata": {
    "collapsed": true,
    "deletable": true,
    "editable": true
   },
   "outputs": [],
   "source": [
    "def get_recommend(uid,user_sim):\n",
    "    reco=user_sim.filter(lambda x:x[0][0]==uid).map(user_collab_rating)\n",
    "    return reco\n",
    "    "
   ]
  },
  {
   "cell_type": "code",
   "execution_count": 35,
   "metadata": {
    "collapsed": false,
    "deletable": true,
    "editable": true
   },
   "outputs": [],
   "source": [
    "reco=get_recommend(1,user_pair_sim)"
   ]
  },
  {
   "cell_type": "code",
   "execution_count": 36,
   "metadata": {
    "collapsed": false,
    "deletable": true,
    "editable": true
   },
   "outputs": [
    {
     "name": "stdout",
     "output_type": "stream",
     "text": [
      "(1, {257: 0.643364931417479, 258: 0.4825236985631092, 1: 0.643364931417479, 10: 0.3216824657087395, 13: 0.643364931417479, 14: 0.643364931417479, 272: 0.8042061642718488, 273: 0.643364931417479, 274: 0.4825236985631092, 19: 0.4825236985631092, 276: 0.643364931417479, 277: 0.643364931417479, 278: 0.4825236985631092, 279: 0.643364931417479, 280: 0.4825236985631092, 25: 0.643364931417479, 282: 0.643364931417479, 283: 0.8042061642718488, 284: 0.643364931417479, 285: 0.8042061642718488, 286: 0.643364931417479, 287: 0.4825236985631092, 288: 0.4825236985631092, 289: 0.4825236985631092, 290: 0.4825236985631092, 291: 0.4825236985631092, 292: 0.643364931417479, 293: 0.643364931417479, 294: 0.16084123285436974, 295: 0.643364931417479, 296: 0.4825236985631092, 297: 0.643364931417479, 298: 0.4825236985631092, 299: 0.643364931417479, 300: 0.643364931417479, 301: 0.643364931417479, 302: 0.8042061642718488, 303: 0.643364931417479, 304: 0.643364931417479, 305: 0.4825236985631092, 306: 0.643364931417479, 307: 0.4825236985631092, 308: 0.4825236985631092, 309: 0.16084123285436974, 310: 0.643364931417479, 311: 0.8042061642718488, 312: 0.4825236985631092, 313: 0.8042061642718488, 314: 0.16084123285436974, 315: 0.16084123285436974, 316: 0.8042061642718488, 269: 0.643364931417479, 255: 0.643364931417479, 50: 0.8042061642718488, 100: 0.8042061642718488, 237: 0.643364931417479, 111: 0.643364931417479, 242: 0.8042061642718488, 275: 0.8042061642718488, 251: 0.8042061642718488, 281: 0.4825236985631092, 127: 0.8042061642718488})\n",
      "(1, {258: 0.22556095903765053, 260: 0.45112191807530105, 264: 0.22556095903765053, 268: 0.3383414385564758, 271: 0.3383414385564758, 272: 0.22556095903765053, 288: 0.22556095903765053, 294: 0.22556095903765053, 299: 0.3383414385564758, 300: 0.22556095903765053, 302: 0.22556095903765053, 303: 0.3383414385564758, 307: 0.3383414385564758, 181: 0.45112191807530105, 317: 0.22556095903765053, 318: 0.45112191807530105, 319: 0.22556095903765053, 320: 0.5639023975941263, 321: 0.5639023975941263, 322: 0.3383414385564758, 323: 0.22556095903765053, 324: 0.22556095903765053, 325: 0.11278047951882526, 326: 0.22556095903765053, 327: 0.45112191807530105, 328: 0.5639023975941263, 329: 0.45112191807530105, 330: 0.22556095903765053, 331: 0.45112191807530105, 332: 0.11278047951882526, 333: 0.22556095903765053, 334: 0.3383414385564758, 335: 0.11278047951882526, 336: 0.11278047951882526, 337: 0.11278047951882526, 338: 0.22556095903765053, 339: 0.3383414385564758, 340: 0.5639023975941263, 341: 0.11278047951882526, 342: 0.45112191807530105, 343: 0.3383414385564758, 344: 0.45112191807530105, 345: 0.3383414385564758, 346: 0.5639023975941263, 347: 0.5639023975941263, 348: 0.45112191807530105, 349: 0.3383414385564758, 350: 0.3383414385564758, 351: 0.3383414385564758, 352: 0.22556095903765053, 353: 0.11278047951882526, 354: 0.3383414385564758, 355: 0.3383414385564758, 245: 0.11278047951882526})\n"
     ]
    }
   ],
   "source": [
    "print_head(reco,2)"
   ]
  },
  {
   "cell_type": "markdown",
   "metadata": {},
   "source": [
    "Add up recommendation score from other users (based on similarity) to get raw score"
   ]
  },
  {
   "cell_type": "code",
   "execution_count": 37,
   "metadata": {
    "collapsed": false,
    "deletable": true,
    "editable": true
   },
   "outputs": [],
   "source": [
    "reco1=reco.reduce(lambda x,y:(x[0],add_dict(x[1],y[1])))"
   ]
  },
  {
   "cell_type": "code",
   "execution_count": 44,
   "metadata": {
    "collapsed": false
   },
   "outputs": [
    {
     "data": {
      "text/plain": [
       "{1: 395.73213758246504,\n",
       " 2: 112.4919134765162,\n",
       " 3: 66.18780988967809,\n",
       " 4: 186.06872052327213,\n",
       " 5: 63.524287368140556,\n",
       " 6: 16.13588201467643,\n",
       " 7: 358.4328050389879,\n",
       " 8: 173.21467050823784,\n",
       " 9: 275.2702036950891,\n",
       " 10: 74.02457616122459,\n",
       " 11: 214.3278281000142,\n",
       " 12: 274.9804498181234,\n",
       " 13: 149.05826492485977,\n",
       " 14: 155.0499718205854,\n",
       " 15: 244.37966356787427,\n",
       " 16: 26.84556514097724,\n",
       " 17: 76.77054007677489,\n",
       " 18: 3.333664850464438,\n",
       " 19: 53.34559222335186,\n",
       " 20: 63.091162705263145,\n",
       " 21: 61.273650553594955,\n",
       " 22: 278.8055921790232,\n",
       " 23: 163.36223580386252,\n",
       " 24: 155.95033047254196,\n",
       " 25: 230.05467128084305,\n",
       " 26: 53.47032191352984,\n",
       " 27: 47.67194459308018,\n",
       " 28: 244.61621023395534,\n",
       " 29: 76.501258570994,\n",
       " 30: 27.109001448309648,\n",
       " 31: 130.69148549262215,\n",
       " 32: 65.70758322167922,\n",
       " 33: 85.72951342544935,\n",
       " 34: 3.1451002459150983,\n",
       " 35: 2.7168476330190474,\n",
       " 36: 4.37609147976698,\n",
       " 37: 4.646513149045008,\n",
       " 38: 85.23635161681388,\n",
       " 39: 69.08167186837875,\n",
       " 40: 34.09090458714776,\n",
       " 41: 24.308564315090653,\n",
       " 42: 137.65596217944767,\n",
       " 43: 29.379589499451082,\n",
       " 44: 58.76998788397762,\n",
       " 45: 68.18153281725174,\n",
       " 46: 23.432407089839764,\n",
       " 47: 117.1015993576193,\n",
       " 48: 119.46857880013722,\n",
       " 49: 68.4881725851781,\n",
       " 50: 604.1004635882456,\n",
       " 51: 65.11218319079066,\n",
       " 52: 75.4274793675846,\n",
       " 53: 92.72474797438802,\n",
       " 54: 84.58526948966455,\n",
       " 55: 139.9518086804577,\n",
       " 56: 355.9551098477226,\n",
       " 57: 34.723800144307994,\n",
       " 58: 151.84340427939267,\n",
       " 59: 78.26082327071927,\n",
       " 60: 60.04018670817293,\n",
       " 61: 56.320841881368,\n",
       " 62: 105.98098706526041,\n",
       " 63: 57.62712519062218,\n",
       " 64: 276.20205154013473,\n",
       " 65: 88.23221973825056,\n",
       " 66: 113.27939671926254,\n",
       " 67: 70.59963932416576,\n",
       " 68: 122.0146951650625,\n",
       " 69: 257.697602708356,\n",
       " 70: 204.6174351834855,\n",
       " 71: 174.90874480110773,\n",
       " 72: 95.33960752052661,\n",
       " 73: 99.55365474184832,\n",
       " 74: 4.42686573345543,\n",
       " 75: 2.937687208458503,\n",
       " 76: 41.67904965074313,\n",
       " 77: 116.26369775576627,\n",
       " 78: 14.615319982116363,\n",
       " 79: 301.3830398367172,\n",
       " 80: 54.04036420311429,\n",
       " 81: 103.87423283168707,\n",
       " 82: 223.22538780726623,\n",
       " 83: 156.90595957015063,\n",
       " 84: 9.455414779020733,\n",
       " 85: 41.286383089114864,\n",
       " 86: 121.62307007367131,\n",
       " 87: 129.78391489267028,\n",
       " 88: 159.62624060269218,\n",
       " 89: 289.6030272159676,\n",
       " 90: 68.57826389110572,\n",
       " 91: 127.84448074994852,\n",
       " 92: 94.93835840395113,\n",
       " 93: 99.23368668315025,\n",
       " 94: 94.82202166421305,\n",
       " 95: 186.27951673590752,\n",
       " 96: 278.7773148711587,\n",
       " 97: 192.31937010735487,\n",
       " 98: 358.2606321657138,\n",
       " 99: 131.34046803258644,\n",
       " 100: 489.0169277777465,\n",
       " 101: 70.51082107678954,\n",
       " 102: 35.415511074741175,\n",
       " 103: 7.080836115230245,\n",
       " 104: 1.9250984662875366,\n",
       " 105: 41.53006453439367,\n",
       " 106: 46.3214183780951,\n",
       " 107: 27.716182301892257,\n",
       " 108: 53.16889390669491,\n",
       " 109: 127.9542021928544,\n",
       " 110: 16.356961410681375,\n",
       " 111: 202.84865127499353,\n",
       " 112: 7.474880128759424,\n",
       " 113: 6.380577415257919,\n",
       " 114: 60.19903605342618,\n",
       " 115: 13.030620890018662,\n",
       " 116: 90.67253917731064,\n",
       " 117: 301.6383293257465,\n",
       " 118: 205.24360175162553,\n",
       " 119: 4.651853814828613,\n",
       " 120: 35.642437645400264,\n",
       " 121: 322.7751142686785,\n",
       " 122: 66.91535303384178,\n",
       " 123: 91.46216513378297,\n",
       " 124: 184.0513332525232,\n",
       " 125: 196.69003386812176,\n",
       " 126: 71.78892634684719,\n",
       " 127: 434.85169075522856,\n",
       " 128: 64.68154198388677,\n",
       " 129: 125.15233646885133,\n",
       " 130: 13.399121370615996,\n",
       " 131: 61.40831079647902,\n",
       " 132: 206.43483830181353,\n",
       " 133: 137.290035731429,\n",
       " 134: 185.82274871725855,\n",
       " 135: 238.24393533246214,\n",
       " 136: 93.43002946444753,\n",
       " 137: 150.79289812799018,\n",
       " 138: 6.221403060150743,\n",
       " 139: 34.32986362079506,\n",
       " 140: 31.25734390381062,\n",
       " 141: 62.23079404693563,\n",
       " 142: 34.82139534675896,\n",
       " 143: 156.7770834133893,\n",
       " 144: 227.7490911500179,\n",
       " 145: 43.32129651144819,\n",
       " 146: 4.528439922965613,\n",
       " 147: 138.90421064787935,\n",
       " 148: 79.94455761254386,\n",
       " 149: 13.456951558577622,\n",
       " 150: 157.06163742956616,\n",
       " 151: 270.7236728130752,\n",
       " 152: 65.43423317803665,\n",
       " 153: 208.80271548129588,\n",
       " 154: 160.96884991693977,\n",
       " 155: 60.32264192922497,\n",
       " 156: 149.49040678353515,\n",
       " 157: 116.42953735066328,\n",
       " 158: 38.25731788050944,\n",
       " 159: 78.49627082561017,\n",
       " 160: 65.34734645366272,\n",
       " 161: 181.73755807437817,\n",
       " 162: 70.6707360809143,\n",
       " 163: 82.42228995929011,\n",
       " 164: 135.98783704865335,\n",
       " 165: 49.870869561971844,\n",
       " 166: 44.70646423536762,\n",
       " 167: 55.40269598663665,\n",
       " 168: 302.7061523850882,\n",
       " 169: 133.3556076304522,\n",
       " 170: 116.04068051748341,\n",
       " 171: 62.99358042685329,\n",
       " 172: 363.8553403272157,\n",
       " 173: 310.3602153794766,\n",
       " 174: 410.8970484545179,\n",
       " 175: 194.74812695285044,\n",
       " 176: 290.09563256214506,\n",
       " 177: 126.65759638543145,\n",
       " 178: 132.0108737704811,\n",
       " 179: 203.17376357235,\n",
       " 180: 205.83954544356592,\n",
       " 181: 500.4809905985605,\n",
       " 182: 211.29861792774417,\n",
       " 183: 290.939542091527,\n",
       " 184: 110.90035823252207,\n",
       " 185: 210.99284058850432,\n",
       " 186: 222.77089023020255,\n",
       " 187: 196.76472106221243,\n",
       " 188: 154.68600611879347,\n",
       " 189: 69.15331836421664,\n",
       " 190: 109.10143128093917,\n",
       " 191: 242.38642825478442,\n",
       " 192: 101.44569914506172,\n",
       " 193: 129.91769078802787,\n",
       " 194: 210.9894135527466,\n",
       " 195: 277.6742689275039,\n",
       " 196: 223.93780083599395,\n",
       " 197: 201.26207662454595,\n",
       " 198: 115.55499447437758,\n",
       " 199: 158.60303840038966,\n",
       " 200: 174.23112632075873,\n",
       " 201: 81.5769500338757,\n",
       " 202: 237.20047899120465,\n",
       " 203: 164.333617432696,\n",
       " 204: 302.0591005420992,\n",
       " 205: 111.47252006612803,\n",
       " 206: 44.7629050463504,\n",
       " 207: 52.814588914366986,\n",
       " 208: 186.8754073267534,\n",
       " 209: 187.86497302874577,\n",
       " 210: 294.3782242891632,\n",
       " 211: 177.99187170194685,\n",
       " 212: 73.13006553521713,\n",
       " 213: 90.2237406903427,\n",
       " 214: 98.64447382349987,\n",
       " 215: 170.43449690206614,\n",
       " 216: 238.67689036114464,\n",
       " 217: 101.02074107957975,\n",
       " 218: 135.41250232750014,\n",
       " 219: 83.03833357648632,\n",
       " 220: 43.81285889174956,\n",
       " 221: 59.36677422321924,\n",
       " 222: 313.2359855878149,\n",
       " 223: 133.7798126353413,\n",
       " 224: 36.08258731858516,\n",
       " 225: 63.207542392609255,\n",
       " 226: 142.85918909673543,\n",
       " 227: 143.17837176500677,\n",
       " 228: 244.03444774633672,\n",
       " 229: 147.47265128567673,\n",
       " 230: 173.06359626899817,\n",
       " 231: 103.98433741388361,\n",
       " 232: 86.22202373799271,\n",
       " 233: 107.13203520946817,\n",
       " 234: 237.8263480133685,\n",
       " 235: 154.28340677445215,\n",
       " 236: 34.930216184454025,\n",
       " 237: 300.8594115103365,\n",
       " 238: 223.26128758643372,\n",
       " 239: 134.00125996643735,\n",
       " 240: 111.03056679106723,\n",
       " 241: 114.83157171604749,\n",
       " 242: 120.77256978921946,\n",
       " 243: 68.64864690318016,\n",
       " 244: 46.79644650904405,\n",
       " 245: 175.009262948268,\n",
       " 246: 135.90191854376172,\n",
       " 247: 0.15692798701996635,\n",
       " 248: 162.58406980925585,\n",
       " 249: 116.57510131920833,\n",
       " 250: 180.38948437962654,\n",
       " 251: 41.00226979842643,\n",
       " 252: 106.63493031320999,\n",
       " 253: 23.54481499458721,\n",
       " 254: 38.49084636371656,\n",
       " 255: 125.0381487439647,\n",
       " 256: 15.254271075703063,\n",
       " 257: 261.3382213555258,\n",
       " 258: 464.0278820363748,\n",
       " 259: 104.01368070723076,\n",
       " 260: 91.81534439803488,\n",
       " 261: 19.156454497858842,\n",
       " 262: 50.866037208396925,\n",
       " 263: 6.170192550010001,\n",
       " 264: 76.97913962739678,\n",
       " 265: 196.6011533605829,\n",
       " 266: 18.67729677311043,\n",
       " 267: 8.575355860803173,\n",
       " 268: 254.62869716474438,\n",
       " 269: 301.90548165399224,\n",
       " 270: 136.58559113711655,\n",
       " 271: 171.95814976754204,\n",
       " 272: 178.31339747824507,\n",
       " 273: 190.93647869656672,\n",
       " 274: 128.7348933605119,\n",
       " 275: 190.1851162261345,\n",
       " 276: 269.6546770980196,\n",
       " 277: 59.45315447761905,\n",
       " 278: 27.112733001165044,\n",
       " 279: 16.82087172144875,\n",
       " 280: 52.04701482119335,\n",
       " 281: 106.23427408263038,\n",
       " 282: 188.8242987133714,\n",
       " 283: 123.06841808860148,\n",
       " 284: 141.55015593541864,\n",
       " 285: 152.49963341662183,\n",
       " 286: 382.9644694374922,\n",
       " 287: 62.639197838221946,\n",
       " 288: 350.2058136336546,\n",
       " 289: 151.80637092691276,\n",
       " 290: 76.87510087721787,\n",
       " 291: 96.65979985234453,\n",
       " 292: 86.84878676613278,\n",
       " 293: 146.51904202360757,\n",
       " 294: 347.90540186794516,\n",
       " 295: 74.00258148245025,\n",
       " 296: 8.442610262325564,\n",
       " 297: 54.29706776634236,\n",
       " 298: 184.08570575818695,\n",
       " 299: 50.17345859764981,\n",
       " 300: 326.0475412861985,\n",
       " 301: 181.87848368570306,\n",
       " 302: 312.2349486191569,\n",
       " 303: 100.3177514812527,\n",
       " 304: 119.43267018948829,\n",
       " 305: 79.84672936258536,\n",
       " 306: 76.72367757334844,\n",
       " 307: 137.55679800891738,\n",
       " 308: 26.107705906669516,\n",
       " 309: 21.11169342911958,\n",
       " 310: 112.6297827540903,\n",
       " 311: 65.04398238341038,\n",
       " 312: 63.08445766610803,\n",
       " 313: 323.60959729740586,\n",
       " 314: 1.7175866989679347,\n",
       " 315: 138.99388164412102,\n",
       " 316: 91.78331451180651,\n",
       " 317: 93.23136234351851,\n",
       " 318: 278.4451455789889,\n",
       " 319: 127.32965556827644,\n",
       " 320: 17.57224292893206,\n",
       " 321: 115.53084712753812,\n",
       " 322: 119.33859854294892,\n",
       " 323: 145.77651374275175,\n",
       " 324: 112.21345464211596,\n",
       " 325: 80.04735105831017,\n",
       " 326: 136.8699159038873,\n",
       " 327: 142.51486377235673,\n",
       " 328: 207.56047254419252,\n",
       " 329: 33.5194672269407,\n",
       " 330: 33.85356641388335,\n",
       " 331: 85.14692703456736,\n",
       " 332: 104.28968890339767,\n",
       " 333: 208.17937660523012,\n",
       " 334: 40.73718330567519,\n",
       " 335: 12.796689455945593,\n",
       " 336: 27.3374898369686,\n",
       " 337: 12.283403884314982,\n",
       " 338: 66.23900656209506,\n",
       " 339: 26.353214710895987,\n",
       " 340: 168.18536817205734,\n",
       " 341: 0.7765935727230462,\n",
       " 342: 34.10971018398476,\n",
       " 343: 106.96548198541191,\n",
       " 344: 42.72454453776465,\n",
       " 345: 43.76282829650587,\n",
       " 346: 112.00829335781114,\n",
       " 347: 107.19140497855783,\n",
       " 348: 19.856351892705888,\n",
       " 349: 25.654901808397554,\n",
       " 350: 33.41024741985518,\n",
       " 351: 9.301139634459274,\n",
       " 352: 18.959168475409108,\n",
       " 353: 9.323917081107135,\n",
       " 354: 50.124987310248486,\n",
       " 355: 29.966227730045254,\n",
       " 356: 74.35060184608376,\n",
       " 357: 236.00466436947292,\n",
       " 358: 108.55405220874903,\n",
       " 359: 4.908114820517496,\n",
       " 360: 7.5692675608838575,\n",
       " 361: 15.155538922726784,\n",
       " 362: 19.661702365069328,\n",
       " 363: 29.46051781648389,\n",
       " 364: 25.806059402468083,\n",
       " 365: 34.2077500046184,\n",
       " 366: 36.09985790043742,\n",
       " 367: 138.82145094689923,\n",
       " 368: 16.210153731789877,\n",
       " 369: 35.82788003096719,\n",
       " 370: 22.85093741158751,\n",
       " 371: 41.185811996351696,\n",
       " 372: 29.503282160455008,\n",
       " 373: 29.005192482027017,\n",
       " 374: 4.9324268863786065,\n",
       " 375: 12.209130468157433,\n",
       " 376: 13.431423473438489,\n",
       " 377: 4.229456622491123,\n",
       " 378: 76.1031216088216,\n",
       " 379: 31.22672431365418,\n",
       " 380: 99.60972198152128,\n",
       " 381: 71.40642254084351,\n",
       " 382: 83.17989903497535,\n",
       " 383: 16.32216064875713,\n",
       " 384: 48.89264964974235,\n",
       " 385: 169.50368970676382,\n",
       " 386: 60.12148947674173,\n",
       " 387: 50.62104672522628,\n",
       " 388: 15.188059991000085,\n",
       " 389: 14.259689503093762,\n",
       " 390: 9.889657208266453,\n",
       " 391: 44.52105421390413,\n",
       " 392: 50.62762212024122,\n",
       " 393: 143.80415957564605,\n",
       " 394: 7.666145190673775,\n",
       " 395: 29.147370251182114,\n",
       " 396: 43.46259548102007,\n",
       " 397: 6.198719607077534,\n",
       " 398: 10.822080701844792,\n",
       " 399: 74.92796003628432,\n",
       " 400: 8.00458233072899,\n",
       " 401: 54.893699836841485,\n",
       " 402: 113.59264311651279,\n",
       " 403: 182.77644290914336,\n",
       " 404: 77.85581203765373,\n",
       " 405: 261.3089111842103,\n",
       " 406: 27.18361571112122,\n",
       " 407: 26.80187756713543,\n",
       " 408: 133.97080504379838,\n",
       " 409: 45.77538086636662,\n",
       " 410: 121.38289531764987,\n",
       " 411: 117.13195002844469,\n",
       " 412: 50.818168124038365,\n",
       " 413: 35.809720390220605,\n",
       " 414: 46.531575428758025,\n",
       " 415: 13.822761569067724,\n",
       " 416: 47.38380757035439,\n",
       " 417: 48.74975584527431,\n",
       " 418: 93.67646482160809,\n",
       " 419: 128.90832166272926,\n",
       " 420: 64.32236501223268,\n",
       " 421: 81.1094645394221,\n",
       " 422: 12.613335956593156,\n",
       " 423: 248.07874941899024,\n",
       " 424: 6.51189596820144,\n",
       " 425: 85.5974911743255,\n",
       " 426: 28.827766138394512,\n",
       " 427: 186.2740910262106,\n",
       " 428: 103.961084003044,\n",
       " 429: 94.35778695488911,\n",
       " 430: 84.29833965119401,\n",
       " 431: 138.5627484815231,\n",
       " 432: 145.51808501993966,\n",
       " 433: 157.9535277149323,\n",
       " 434: 60.805137409901604,\n",
       " 435: 180.99835441757378,\n",
       " 436: 91.2870653504589,\n",
       " 437: 1.8195340893876923,\n",
       " 438: 2.458717502838277,\n",
       " 439: 1.8195340893876923,\n",
       " 440: 5.9545641621893495,\n",
       " 441: 35.40301778427057,\n",
       " 442: 1.7304296037201694,\n",
       " 443: 140.7374618221199,\n",
       " 444: 33.86550704753393,\n",
       " 445: 17.452320862714718,\n",
       " 446: 3.998124545570837,\n",
       " 447: 95.83411213934038,\n",
       " 448: 71.06215314513986,\n",
       " 449: 93.87032806536615,\n",
       " 450: 37.62545928002668,\n",
       " 451: 119.89480183335367,\n",
       " 452: 41.032253011788875,\n",
       " 453: 9.557050346985262,\n",
       " 454: 8.306720650209497,\n",
       " 455: 132.06484543128738,\n",
       " 456: 31.048059072551016,\n",
       " 457: 12.870523171166507,\n",
       " 458: 66.39970023565624,\n",
       " 459: 19.050063997388683,\n",
       " 460: 25.979566565242216,\n",
       " 461: 60.2450537261352,\n",
       " 462: 119.72628580897916,\n",
       " 463: 53.48310222291768,\n",
       " 464: 23.532936609195716,\n",
       " 465: 48.434984467354674,\n",
       " 466: 47.77579604035822,\n",
       " 467: 41.8986413346984,\n",
       " 468: 38.99682028823904,\n",
       " 469: 62.63709881457785,\n",
       " 470: 100.40039382756282,\n",
       " 471: 164.5858009314606,\n",
       " 472: 116.69778008626484,\n",
       " 473: 103.65494232329102,\n",
       " 474: 196.1101290747169,\n",
       " 475: 246.8287411955509,\n",
       " 476: 99.12712911925752,\n",
       " 477: 57.5261882816928,\n",
       " 478: 80.36998989909952,\n",
       " 479: 171.1732221451186,\n",
       " 480: 176.10336475187586,\n",
       " 481: 52.31885158356032,\n",
       " 482: 105.59217828492572,\n",
       " 483: 225.82022053656442,\n",
       " 484: 113.83138298227455,\n",
       " 485: 89.27967838089604,\n",
       " 486: 32.50188691773935,\n",
       " 487: 40.345551342104436,\n",
       " 488: 48.07410041903518,\n",
       " 489: 42.10908473167675,\n",
       " 490: 37.71601903858887,\n",
       " 491: 52.794506536009344,\n",
       " 492: 47.683887608492235,\n",
       " 493: 45.609493795357984,\n",
       " 494: 41.584386278218595,\n",
       " 495: 44.14316079691464,\n",
       " 496: 200.44480172207267,\n",
       " 497: 41.50362644824272,\n",
       " 498: 125.23314444511647,\n",
       " 499: 39.27090400321559,\n",
       " 500: 29.48042640456931,\n",
       " 501: 95.45705758949332,\n",
       " 502: 52.454538747585126,\n",
       " 503: 32.20828181857645,\n",
       " 504: 90.77358125101541,\n",
       " 505: 49.712913456883676,\n",
       " 506: 77.720932254156,\n",
       " 507: 64.9368314187955,\n",
       " 508: 189.33260517095368,\n",
       " 509: 102.0512777471243,\n",
       " 510: 116.2184758304647,\n",
       " 511: 168.09367626463649,\n",
       " 512: 46.79605596081909,\n",
       " 513: 61.66532172874903,\n",
       " 514: 144.9842109494731,\n",
       " 515: 218.0898261373545,\n",
       " 516: 51.87378831174424,\n",
       " 517: 68.9685585414199,\n",
       " 518: 83.51971158371506,\n",
       " 519: 61.37106894714888,\n",
       " 520: 112.47531186146986,\n",
       " 521: 96.28839313825617,\n",
       " 522: 34.88890225225478,\n",
       " 523: 146.16581191061525,\n",
       " 524: 42.4829833510711,\n",
       " 525: 67.6602321340603,\n",
       " 526: 101.03344080785872,\n",
       " 527: 165.0251370667446,\n",
       " 528: 104.68847550356882,\n",
       " 529: 86.02320713533904,\n",
       " 530: 65.34469859532243,\n",
       " 531: 117.56165213342737,\n",
       " 532: 21.05940265549993,\n",
       " 533: 13.909447892291613,\n",
       " 534: 15.09958905904692,\n",
       " 535: 37.06423835812758,\n",
       " 536: 6.008366594703896,\n",
       " 537: 27.38923050668336,\n",
       " 538: 58.691464155965555,\n",
       " 539: 23.36686927368168,\n",
       " 540: 26.500644875538324,\n",
       " 541: 36.75857935346739,\n",
       " 542: 26.67493436054928,\n",
       " 543: 12.160660322114254,\n",
       " 544: 53.624939680265484,\n",
       " 545: 5.5877394305784875,\n",
       " 546: 173.48754351623072,\n",
       " 547: 38.255575987848125,\n",
       " 548: 6.760428794144064,\n",
       " 549: 84.7678473934325,\n",
       " 550: 127.69053075467775,\n",
       " 551: 18.17421739736763,\n",
       " 552: 34.912791380419854,\n",
       " 553: 40.6440185121544,\n",
       " 554: 73.9776939188408,\n",
       " 555: 4.6860195543935355,\n",
       " 556: 9.400489562825587,\n",
       " 557: 11.514803599335485,\n",
       " 558: 57.28447460384227,\n",
       " 559: 102.60656217185966,\n",
       " 560: 7.7878766749204775,\n",
       " 561: 43.41981765143854,\n",
       " 562: 43.843401517950454,\n",
       " 563: 18.26642204444521,\n",
       " 564: 15.448292478495745,\n",
       " 565: 13.893869276304759,\n",
       " 566: 156.85532585389143,\n",
       " 567: 30.07785948177548,\n",
       " 568: 193.29048020791538,\n",
       " 569: 46.9189369359152,\n",
       " 570: 41.64433779855734,\n",
       " 571: 15.904448987871499,\n",
       " 572: 23.643500173188972,\n",
       " 573: 20.643485005283512,\n",
       " 574: 5.702234890677622,\n",
       " 575: 28.33625957071719,\n",
       " 576: 73.44520507846052,\n",
       " 577: 23.917932208811084,\n",
       " 578: 76.2769035952608,\n",
       " 579: 14.129941956316298,\n",
       " 580: 25.054358089598352,\n",
       " 581: 42.82501880056432,\n",
       " 582: 133.0828264077483,\n",
       " 583: 30.48967947358833,\n",
       " 584: 52.0046742911219,\n",
       " 585: 20.048285858581373,\n",
       " 586: 23.11961129462015,\n",
       " 587: 11.686979055060293,\n",
       " 588: 165.08934167941587,\n",
       " 589: 42.32849209105437,\n",
       " 590: 7.567655913086628,\n",
       " 591: 138.24695715593674,\n",
       " 592: 8.738293064315975,\n",
       " 593: 9.977648489238721,\n",
       " 594: 2.160458989342788,\n",
       " 595: 38.355726547540776,\n",
       " 596: 92.36578296681895,\n",
       " 597: 147.59424412800144,\n",
       " 598: 2.080436668985481,\n",
       " 599: 0.25813731920875255,\n",
       " 600: 1.6472603747940722,\n",
       " 601: 21.494773038163274,\n",
       " 602: 36.130131703776335,\n",
       " 603: 199.29516459014144,\n",
       " 604: 63.78254954574819,\n",
       " 605: 16.65973522316677,\n",
       " 606: 49.127477207827155,\n",
       " 607: 42.59314401273728,\n",
       " 608: 25.049259386754855,\n",
       " 609: 37.17931946085966,\n",
       " 610: 23.27786215483368,\n",
       " 611: 23.520763589513574,\n",
       " 612: 28.572073402762634,\n",
       " 613: 19.704683260207794,\n",
       " 614: 36.32912804660527,\n",
       " 615: 49.839174244587205,\n",
       " 616: 50.22330231785051,\n",
       " 617: 12.319445103001774,\n",
       " 618: 15.205378949952623,\n",
       " 619: 49.20177114827577,\n",
       " 620: 30.25013661822994,\n",
       " 621: 8.392208680873182,\n",
       " 622: 25.434467188184357,\n",
       " 623: 20.92856310591125,\n",
       " 624: 17.217708521044287,\n",
       " 625: 62.88320717530136,\n",
       " 626: 3.353894281054145,\n",
       " 627: 50.903433123791416,\n",
       " 628: 126.05702800437385,\n",
       " 629: 60.90121688099168,\n",
       " 630: 21.424736884188256,\n",
       " 631: 106.92916876038825,\n",
       " 632: 48.65128985337974,\n",
       " 633: 49.488079414478385,\n",
       " 634: 21.289462553751864,\n",
       " 635: 15.789954683091253,\n",
       " 636: 80.82855484809919,\n",
       " 637: 28.852000807976854,\n",
       " 638: 27.76800731443561,\n",
       " 639: 30.120503794734375,\n",
       " 640: 62.59114883091385,\n",
       " 641: 28.865496194239974,\n",
       " 642: 76.992231734856,\n",
       " 643: -2.85218373720374,\n",
       " 644: 28.211710171907917,\n",
       " 645: 24.107529496599522,\n",
       " 646: 29.907475923205553,\n",
       " 647: 66.38587202235874,\n",
       " 648: 47.889176752476864,\n",
       " 649: 36.83573320473545,\n",
       " 650: 54.51540605114278,\n",
       " 651: 163.91505981155532,\n",
       " 652: 84.47981508473892,\n",
       " 653: 22.96072536160376,\n",
       " 654: 130.29635837650784,\n",
       " 655: 188.07353354382462,\n",
       " 656: 35.46500131150516,\n",
       " 657: 129.0247550338934,\n",
       " 658: 68.24373617065861,\n",
       " 659: 88.57765175937566,\n",
       " 660: 115.99046649303484,\n",
       " 661: 74.23143965431767,\n",
       " 662: 60.17742920388714,\n",
       " 663: 97.91586068303079,\n",
       " 664: 34.74412399300395,\n",
       " 665: 84.33049744612187,\n",
       " 666: 0.7024555676478126,\n",
       " 667: 6.868929723732717,\n",
       " 668: 2.092966681746429,\n",
       " 669: 4.936188410547048,\n",
       " 670: 32.57901593076972,\n",
       " 671: 35.81473190415061,\n",
       " 672: 35.6131497166333,\n",
       " 673: 61.90461003400902,\n",
       " 674: 33.96085811022423,\n",
       " 675: 46.349403310394734,\n",
       " 676: 67.59219114862908,\n",
       " 677: 0.7744119576262576,\n",
       " 678: 133.18819717968088,\n",
       " 679: 86.18408723485602,\n",
       " 680: 13.281256216977305,\n",
       " 681: 10.754024046862936,\n",
       " 682: 56.063703865104266,\n",
       " 683: 23.237767650327093,\n",
       " 684: 160.49128148781531,\n",
       " 685: 127.20750959862754,\n",
       " 686: 49.685973766139,\n",
       " 687: 25.362563014994933,\n",
       " 688: 15.209393045088614,\n",
       " 689: 72.29341219013028,\n",
       " 690: 105.01216923977272,\n",
       " 691: 16.524384792960905,\n",
       " 692: 125.55367520496587,\n",
       " 693: 79.09276884225959,\n",
       " 694: 31.44841969079026,\n",
       " 695: 7.0143664910297705,\n",
       " 696: 52.76274953233386,\n",
       " 697: 29.705102222151034,\n",
       " 698: 3.6053765859243483,\n",
       " 699: 69.19413238771048,\n",
       " 700: 9.571456511579388,\n",
       " 701: 5.300820649279738,\n",
       " 702: 40.455127014771065,\n",
       " 703: 9.875802674552657,\n",
       " 704: 13.639187383133486,\n",
       " 705: 113.62073664085817,\n",
       " 706: 3.821326312605448,\n",
       " 707: 45.036091580540734,\n",
       " 708: 85.51376371771399,\n",
       " 709: 95.47030633723978,\n",
       " 710: 72.50080668198562,\n",
       " 711: -0.3693758457938549,\n",
       " 712: 39.07697329500551,\n",
       " 713: 64.761595452844,\n",
       " 714: 8.93747727357883,\n",
       " 715: 79.26099402848094,\n",
       " 716: 38.93029843519215,\n",
       " 717: 38.40534504895218,\n",
       " 718: 14.240942970416198,\n",
       " 719: 21.03441674794301,\n",
       " 720: 59.597642686479844,\n",
       " 721: 44.95712624363339,\n",
       " 722: 38.44739279001711,\n",
       " 723: 22.795883054432363,\n",
       " 724: 50.38706604293706,\n",
       " 725: 10.019231677954163,\n",
       " 726: 8.073807540489772,\n",
       " 727: 53.942520366227626,\n",
       " 728: 28.641001548060405,\n",
       " 729: 62.61656946183899,\n",
       " 730: 14.498126781622116,\n",
       " 731: 23.114136488787935,\n",
       " 732: 156.09729049710842,\n",
       " 733: 13.0156852346135,\n",
       " 734: 14.59905641536295,\n",
       " 735: 119.18413405396807,\n",
       " 736: 60.599239045449316,\n",
       " 737: 45.481914565076075,\n",
       " 738: 19.330690693131565,\n",
       " 739: 119.0338483723096,\n",
       " 740: 38.155938329677596,\n",
       " 741: 60.57020660711312,\n",
       " 742: 210.2635846903885,\n",
       " 743: 19.547526768507378,\n",
       " 744: 83.48749538877472,\n",
       " 745: 11.356581227790524,\n",
       " 746: 108.56606105570546,\n",
       " 747: 79.14619413433165,\n",
       " 748: 247.9746702654555,\n",
       " 749: 34.990181850916386,\n",
       " 750: 104.31603553761134,\n",
       " 751: 156.34651864548073,\n",
       " 752: 40.56300315767212,\n",
       " 753: 15.814707528507567,\n",
       " 754: 38.34428249901863,\n",
       " 755: 76.54997771338212,\n",
       " 756: 74.43377973941956,\n",
       " 757: 2.038516232186791,\n",
       " 758: 6.153901215930348,\n",
       " 759: 6.7747965747532195,\n",
       " 760: 25.171279305303486,\n",
       " 761: 34.59503176037544,\n",
       " 762: 90.91448133601767,\n",
       " 763: 107.92680014193951,\n",
       " 764: 21.72346812084137,\n",
       " 765: 21.97441630018683,\n",
       " 766: 8.12387772124652,\n",
       " 767: 5.844483985800767,\n",
       " 768: 32.470109841289805,\n",
       " 769: 21.381767870002662,\n",
       " 770: 54.409980894141015,\n",
       " 771: 32.259352785354054,\n",
       " 772: 42.42858980876695,\n",
       " 773: 10.55462609058097,\n",
       " 774: 26.573734639513276,\n",
       " 775: 12.26083670583603,\n",
       " 776: 5.389413237610578,\n",
       " 777: 1.4274643732501875,\n",
       " 778: 56.64929756515794,\n",
       " 779: 16.93795118134639,\n",
       " 780: 55.17755520902223,\n",
       " 781: 56.95079670623695,\n",
       " 782: 6.74255662632491,\n",
       " 783: 24.025327515838242,\n",
       " 784: 0.42126572696112813,\n",
       " 785: 17.55550908979229,\n",
       " 786: 10.04644975651219,\n",
       " 787: 6.562911273003348,\n",
       " 788: 1.3145907275349658,\n",
       " 789: 47.7456266959459,\n",
       " 790: 46.59591116847547,\n",
       " 791: 6.232851074482305,\n",
       " 792: 76.32355329392027,\n",
       " 793: 11.377919108278103,\n",
       " 794: 29.464969715764482,\n",
       " 795: 9.527233102699942,\n",
       " 796: 20.068440055502425,\n",
       " 797: 24.066612654945565,\n",
       " 798: 6.462191433611004,\n",
       " 799: 5.539132156835252,\n",
       " 800: 21.263976259495447,\n",
       " 801: 12.772056049883826,\n",
       " 802: 31.86378469073978,\n",
       " 803: 7.579706125499648,\n",
       " 804: 6.998389707401042,\n",
       " 805: 22.278177214669267,\n",
       " 806: 40.0385443715556,\n",
       " 807: 6.317273316423236,\n",
       " 808: 20.300318805025544,\n",
       " 809: 32.48248073181347,\n",
       " 810: 37.27890745576006,\n",
       " 811: 12.613061089578164,\n",
       " 812: 3.739592941963516,\n",
       " 813: 48.96911766599139,\n",
       " 814: 2.1492872428078917,\n",
       " 815: 63.491075679280776,\n",
       " 816: 11.495861265535789,\n",
       " 817: 1.8288973103833157,\n",
       " 818: 17.56276676584956,\n",
       " 819: 21.208148439206386,\n",
       " 820: 62.55004699406213,\n",
       " 821: 9.53990131738239,\n",
       " 822: 3.2715738414797437,\n",
       " 823: 60.773204275632295,\n",
       " 824: 35.477141901253376,\n",
       " 825: 66.75487556860483,\n",
       " 826: 42.531071749311984,\n",
       " 827: 31.04382142850624,\n",
       " 828: 5.186679930885884,\n",
       " 829: 21.73961972104695,\n",
       " 830: 0.4298574485615783,\n",
       " 831: 62.06540005044534,\n",
       " 832: 10.139593076683386,\n",
       " 833: 38.07952932429681,\n",
       " 834: 15.794228248987263,\n",
       " 835: 12.392035454547052,\n",
       " 836: 16.937094045160308,\n",
       " 837: 23.263189740738156,\n",
       " 838: 1.1421282039542948,\n",
       " 839: 0.5851307398004865,\n",
       " 840: 37.49977017352575,\n",
       " 841: 27.2333222038396,\n",
       " 842: 15.059027641852518,\n",
       " 843: 20.73920931587801,\n",
       " 844: 32.44779816041482,\n",
       " 845: 134.22570982495841,\n",
       " 846: 26.925754141322457,\n",
       " 847: 48.638254615506554,\n",
       " 848: 6.61245791014621,\n",
       " 849: 37.57569513102818,\n",
       " 850: 3.171249408496289,\n",
       " 851: 3.150259125289335,\n",
       " 852: 0.4298574485615783,\n",
       " 853: 17.02928893839444,\n",
       " 854: 14.20750035013154,\n",
       " 855: 45.15092776290696,\n",
       " 856: 36.264248404241535,\n",
       " 857: 1.289572345684735,\n",
       " 858: 0.954547841883795,\n",
       " 859: 7.779481664864863,\n",
       " 860: 6.059549183107644,\n",
       " 861: 1.633243785223883,\n",
       " 862: 8.966462794121979,\n",
       " 863: 13.62718590319641,\n",
       " 864: 53.46948675391753,\n",
       " 865: 13.178430129125022,\n",
       " 866: 82.11443432560036,\n",
       " 867: 6.5659799622877975,\n",
       " 868: 3.3805709526484415,\n",
       " 869: 13.62928715480818,\n",
       " 870: 6.6239336050597215,\n",
       " 871: 33.49128630097357,\n",
       " 872: 19.438667201361604,\n",
       " 873: 53.08274936067814,\n",
       " 874: 26.14996057598324,\n",
       " 875: 30.439593891842204,\n",
       " 876: 28.015232039349225,\n",
       " 877: 30.128957444226877,\n",
       " 878: 11.362488401630415,\n",
       " 879: 108.39519412807515,\n",
       " 880: 43.038914429281114,\n",
       " 881: 25.588792153669072,\n",
       " 882: 19.065096517138134,\n",
       " 883: 9.316257457881424,\n",
       " 884: 2.407471900214145,\n",
       " 885: 7.01067422586737,\n",
       " 886: 47.721657512069655,\n",
       " 887: 43.144228146323606,\n",
       " 888: 11.925783757721216,\n",
       " 889: 9.319394376207876,\n",
       " 890: 26.656455236946545,\n",
       " 891: -1.5463452117736969,\n",
       " 892: 25.04862151069614,\n",
       " 893: 7.11035760534127,\n",
       " 894: 5.27862574314517,\n",
       " 895: 76.15095099161096,\n",
       " 896: 33.24936627690712,\n",
       " 897: 0.8109851861447411,\n",
       " 898: 40.04919752134165,\n",
       " 899: 7.084974537781549,\n",
       " 900: 31.7137705916524,\n",
       " 901: 2.0550227125455245,\n",
       " 902: 34.155425286523915,\n",
       " 903: 19.0039656172508,\n",
       " 904: 15.801453321925278,\n",
       " 905: 17.302462077444478,\n",
       " 906: 13.933418601703188,\n",
       " 907: 1.4571580747476132,\n",
       " 908: 9.339089471463675,\n",
       " 909: 12.675515155676639,\n",
       " 910: 2.584579108955227,\n",
       " 911: 3.439745297908758,\n",
       " 912: 4.258529100123559,\n",
       " 913: 1.175068369476301,\n",
       " 914: 10.107405934648131,\n",
       " 915: 16.880336723743767,\n",
       " 916: 16.345778854420235,\n",
       " 917: 6.84161969852422,\n",
       " 918: 6.614771579350336,\n",
       " 919: 98.24159170217817,\n",
       " 920: 0.8386258534341904,\n",
       " 921: 42.59581029679883,\n",
       " 922: 32.929266716423314,\n",
       " 923: 43.587823862337935,\n",
       " 924: 56.9005980862255,\n",
       " 925: 20.034063491448734,\n",
       " 926: 61.44355797373508,\n",
       " 927: 4.241309013485285,\n",
       " 928: 68.24214978824148,\n",
       " 929: 20.04969176702603,\n",
       " 930: 45.841542400036055,\n",
       " 931: 32.40973561810147,\n",
       " 932: 15.70492072736565,\n",
       " 933: 10.372755887548815,\n",
       " 934: 36.94719633143644,\n",
       " 935: 4.78871524594937,\n",
       " 936: 37.12327640992489,\n",
       " 937: 31.695720705071146,\n",
       " 938: 14.227798250584826,\n",
       " 939: 49.364246137638496,\n",
       " 940: 19.95748885692045,\n",
       " 941: 29.3072587435819,\n",
       " 942: 33.39423401462141,\n",
       " 943: 34.76240912502296,\n",
       " 944: 28.05820614632518,\n",
       " 945: 28.110436469608135,\n",
       " 946: 38.238445950265394,\n",
       " 947: 16.81347007288075,\n",
       " 948: 23.866938656504725,\n",
       " 949: 48.14052542745379,\n",
       " 950: 18.39134993021247,\n",
       " 951: 21.06957218009787,\n",
       " 952: 38.233165226046516,\n",
       " 953: 15.68536839185927,\n",
       " 954: 5.118141053406111,\n",
       " 955: 38.077255267727004,\n",
       " 956: 40.275451714568675,\n",
       " 957: -0.11902061937859199,\n",
       " 958: 8.928920954698148,\n",
       " 959: 52.61915316838013,\n",
       " 960: 17.264301615029268,\n",
       " 961: 28.073637169695434,\n",
       " 962: 10.620558416250404,\n",
       " 963: 35.06808208823933,\n",
       " 964: 4.133757389705077,\n",
       " 965: 11.83178006633589,\n",
       " 966: 20.660013909607475,\n",
       " 967: 8.827432514074722,\n",
       " 968: 12.798901951251182,\n",
       " 969: 51.88774122898562,\n",
       " 970: 1.5567704445603554,\n",
       " 971: 27.854856289065797,\n",
       " 972: 21.031753832435857,\n",
       " 973: 3.0718298709357854,\n",
       " 974: 12.557954256091143,\n",
       " 975: 28.107670059457096,\n",
       " 976: 5.435638580092632,\n",
       " 977: 22.35471296598624,\n",
       " 978: 11.065407669759942,\n",
       " 979: 28.630815847155137,\n",
       " 980: 21.31683448823558,\n",
       " 981: 4.929001024488176,\n",
       " 982: 11.607082970090206,\n",
       " 983: 7.367073424777253,\n",
       " 984: 25.090940004795584,\n",
       " 985: 15.715333970847011,\n",
       " 986: 11.186263945838396,\n",
       " 987: 4.768203314959167,\n",
       " 988: 46.46723707843987,\n",
       " 989: 9.632652258299391,\n",
       " 990: 15.484552658003164,\n",
       " 991: 12.934354929957859,\n",
       " 992: 4.4578005539186325,\n",
       " 993: 55.32862285161001,\n",
       " 994: 5.047064730788524,\n",
       " 995: 19.98803189734018,\n",
       " 996: 2.7681787249058494,\n",
       " 997: 8.836731134029128,\n",
       " 998: 10.366036722919482,\n",
       " 999: 7.16097653379373,\n",
       " 1000: 7.978695281541901,\n",
       " ...}"
      ]
     },
     "execution_count": 44,
     "metadata": {},
     "output_type": "execute_result"
    }
   ],
   "source": [
    "#Scores for all movies for the user\n",
    "reco1[1]"
   ]
  },
  {
   "cell_type": "markdown",
   "metadata": {},
   "source": [
    "Get top recommendation by sorting the movie by the raw score and taking top 10 rows."
   ]
  },
  {
   "cell_type": "code",
   "execution_count": 42,
   "metadata": {
    "collapsed": false,
    "deletable": true,
    "editable": true
   },
   "outputs": [],
   "source": [
    "top_rec=[y for x,y in sorted(zip(reco1[1].values(),reco1[1].keys()),reverse=True)][0:10]"
   ]
  },
  {
   "cell_type": "code",
   "execution_count": 43,
   "metadata": {
    "collapsed": false
   },
   "outputs": [
    {
     "data": {
      "text/plain": [
       "[50, 181, 100, 258, 127, 174, 1, 286, 172, 7]"
      ]
     },
     "execution_count": 43,
     "metadata": {},
     "output_type": "execute_result"
    }
   ],
   "source": [
    "top_rec"
   ]
  },
  {
   "cell_type": "markdown",
   "metadata": {},
   "source": [
    "### Summary\n",
    "\n",
    "Using spark and pyspark a scalable recommender system is built and implemented on AWS EC2 cluster. "
   ]
  }
 ],
 "metadata": {
  "kernelspec": {
   "display_name": "Python 2",
   "language": "python",
   "name": "python2"
  },
  "language_info": {
   "codemirror_mode": {
    "name": "ipython",
    "version": 2
   },
   "file_extension": ".py",
   "mimetype": "text/x-python",
   "name": "python",
   "nbconvert_exporter": "python",
   "pygments_lexer": "ipython2",
   "version": "2.7.12"
  }
 },
 "nbformat": 4,
 "nbformat_minor": 2
}
