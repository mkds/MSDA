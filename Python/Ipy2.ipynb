{
 "cells": [
  {
   "cell_type": "markdown",
   "metadata": {},
   "source": [
    "# Monte Carlo simulation\n",
    "\n",
    "This notebook demonstrates a simple Monte Carlo simulation"
   ]
  },
  {
   "cell_type": "code",
   "execution_count": 17,
   "metadata": {
    "collapsed": true
   },
   "outputs": [],
   "source": [
    "import numpy as np\n",
    "import Tkinter, tkFileDialog\n",
    "import pandas as pd\n",
    "import matplotlib.pyplot as plot\n",
    "import sys"
   ]
  },
  {
   "cell_type": "markdown",
   "metadata": {},
   "source": [
    "The following function simulates Guassian distribution of percentage changes and return cumulative percentage change"
   ]
  },
  {
   "cell_type": "code",
   "execution_count": 18,
   "metadata": {
    "collapsed": true
   },
   "outputs": [],
   "source": [
    "def change_ndays(n,avg,sd):\n",
    "    \"\"\"Compute percentage change for n number of days\"\"\"\n",
    "    changes = np.random.normal(avg,sd,n)+1\n",
    "    return np.prod(changes)"
   ]
  },
  {
   "cell_type": "markdown",
   "metadata": {},
   "source": [
    "The input is a csv file. Let's use pandas to create a dataframe from the input"
   ]
  },
  {
   "cell_type": "code",
   "execution_count": 19,
   "metadata": {
    "collapsed": true
   },
   "outputs": [],
   "source": [
    "try:\n",
    "    Tkinter.Tk().withdraw()\n",
    "    file=tkFileDialog.askopenfile(initialfile='apple.2011.csv',title='Select File',filetypes=[('all','*'), ('csv','*.csv')])\n",
    "    df=pd.read_csv(file,warn_bad_lines=True,names=['date','price','change'],skiprows=2)\n",
    "except Exception, e:\n",
    "    print \"Error: Terminating the program! \" + str(e)\n",
    "    sys.exit(e)"
   ]
  },
  {
   "cell_type": "markdown",
   "metadata": {},
   "source": [
    "We need mean and standard deviation for Guassian distribution"
   ]
  },
  {
   "cell_type": "code",
   "execution_count": 20,
   "metadata": {
    "collapsed": false
   },
   "outputs": [
    {
     "name": "stdout",
     "output_type": "stream",
     "text": [
      "The mean price is 0.000957355207171 and standard deviation is 0.0165205562984\n"
     ]
    }
   ],
   "source": [
    "avg=df.change.mean()\n",
    "sd=df.change.std()\n",
    "print \"The mean price is %s and standard deviation is %s\" % (avg,sd)"
   ]
  },
  {
   "cell_type": "markdown",
   "metadata": {},
   "source": [
    "Let's take last price we have and try to comput VaR"
   ]
  },
  {
   "cell_type": "code",
   "execution_count": 21,
   "metadata": {
    "collapsed": false
   },
   "outputs": [
    {
     "name": "stdout",
     "output_type": "stream",
     "text": [
      "Last price from which VaR needs to be calculate is 405.0\n"
     ]
    }
   ],
   "source": [
    "last_price=df.tail(1).iloc[0,1]\n",
    "print \"Last price from which VaR needs to be calculate is %s\" % last_price"
   ]
  },
  {
   "cell_type": "markdown",
   "metadata": {},
   "source": [
    "Let's simulate price changes 10000 times"
   ]
  },
  {
   "cell_type": "code",
   "execution_count": 22,
   "metadata": {
    "collapsed": true
   },
   "outputs": [],
   "source": [
    "prices=np.array([change_ndays(20,avg,sd)*last_price for i in range(0,10000)],dtype=float)"
   ]
  },
  {
   "cell_type": "markdown",
   "metadata": {},
   "source": [
    "Lets draw histogram of the simulated prices"
   ]
  },
  {
   "cell_type": "code",
   "execution_count": 23,
   "metadata": {
    "collapsed": false
   },
   "outputs": [
    {
     "data": {
      "image/png": "[encoded data removed]",
      "text/plain": [
       "<matplotlib.figure.Figure at 0xcf35400>"
      ]
     },
     "metadata": {},
     "output_type": "display_data"
    }
   ],
   "source": [
    "%matplotlib inline\n",
    "histogram,bins=np.histogram(prices,bins=50)\n",
    "plot.bar(bins[:-1],histogram)\n",
    "plot.show()"
   ]
  },
  {
   "cell_type": "markdown",
   "metadata": {},
   "source": [
    "Finally we compute VaR at 99% confidence"
   ]
  },
  {
   "cell_type": "code",
   "execution_count": 24,
   "metadata": {
    "collapsed": false
   },
   "outputs": [
    {
     "name": "stdout",
     "output_type": "stream",
     "text": [
      "VaR at 99% confidence:345.982286213\n"
     ]
    }
   ],
   "source": [
    "print \"VaR at 99%% confidence:%s\" % (np.percentile(np.sort(prices),1))"
   ]
  }
 ],
 "metadata": {
  "kernelspec": {
   "display_name": "Python 2",
   "language": "python",
   "name": "python2"
  },
  "language_info": {
   "codemirror_mode": {
    "name": "ipython",
    "version": 2
   },
   "file_extension": ".py",
   "mimetype": "text/x-python",
   "name": "python",
   "nbconvert_exporter": "python",
   "pygments_lexer": "ipython2",
   "version": "2.7.10"
  }
 },
 "nbformat": 4,
 "nbformat_minor": 0
}
