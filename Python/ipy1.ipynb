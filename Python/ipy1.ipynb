{
 "cells": [
  {
   "cell_type": "markdown",
   "metadata": {},
   "source": [
    "# Monte Carlo simulation Using Parallel processing\n",
    "\n",
    "This notebook demonstrates a simple Monte Carlo simulation"
   ]
  },
  {
   "cell_type": "code",
   "execution_count": 59,
   "metadata": {
    "collapsed": true
   },
   "outputs": [],
   "source": [
    "import numpy as np\n",
    "import Tkinter, tkFileDialog\n",
    "import pandas as pd\n",
    "import matplotlib.pyplot as plot\n",
    "import sys"
   ]
  },
  {
   "cell_type": "markdown",
   "metadata": {},
   "source": [
    "The following function simulates Guassian distribution of percentage changes and return cumulative percentage change"
   ]
  },
  {
   "cell_type": "code",
   "execution_count": 60,
   "metadata": {
    "collapsed": true
   },
   "outputs": [],
   "source": [
    "def change_ndays(n,avg,sd):\n",
    "    \"\"\"Compute percentage change for n number of days\"\"\"\n",
    "    changes = np.random.normal(avg,sd,n)+1\n",
    "    return np.prod(changes)"
   ]
  },
  {
   "cell_type": "markdown",
   "metadata": {},
   "source": [
    "The input is a csv file. Let's use pandas to create a dataframe from the input"
   ]
  },
  {
   "cell_type": "code",
   "execution_count": 61,
   "metadata": {
    "collapsed": true
   },
   "outputs": [],
   "source": [
    "try:\n",
    "    Tkinter.Tk().withdraw()\n",
    "    file=tkFileDialog.askopenfile(initialfile='apple.2011.csv',title='Select File',filetypes=[('all','*'), ('csv','*.csv')])\n",
    "    df=pd.read_csv(file,warn_bad_lines=True,names=['date','price','change'],skiprows=2)\n",
    "except Exception, e:\n",
    "    print \"Error: Terminating the program! \" + str(e)\n",
    "    sys.exit(e)"
   ]
  },
  {
   "cell_type": "markdown",
   "metadata": {},
   "source": [
    "We need mean and standard deviation for Guassian distribution"
   ]
  },
  {
   "cell_type": "code",
   "execution_count": 62,
   "metadata": {
    "collapsed": false
   },
   "outputs": [
    {
     "name": "stdout",
     "output_type": "stream",
     "text": [
      "The mean price is 0.000957355207171 and standard deviation is 0.0165205562984\n"
     ]
    }
   ],
   "source": [
    "avg=df.change.mean()\n",
    "sd=df.change.std()\n",
    "print \"The mean price is %s and standard deviation is %s\" % (avg,sd)"
   ]
  },
  {
   "cell_type": "markdown",
   "metadata": {},
   "source": [
    "Let's take last price we have and try to compute VaR"
   ]
  },
  {
   "cell_type": "code",
   "execution_count": 64,
   "metadata": {
    "collapsed": false
   },
   "outputs": [
    {
     "name": "stdout",
     "output_type": "stream",
     "text": [
      "Last price from which VaR needs to be calculate is 405.0\n"
     ]
    }
   ],
   "source": [
    "last_price=df.tail(1).iloc[0,1]\n",
    "print \"Last price from which VaR needs to be calculate is %s\" % last_price"
   ]
  },
  {
   "cell_type": "markdown",
   "metadata": {},
   "source": [
    "Let's simulate price changes 2 million times"
   ]
  },
  {
   "cell_type": "code",
   "execution_count": 65,
   "metadata": {
    "collapsed": false
   },
   "outputs": [
    {
     "name": "stdout",
     "output_type": "stream",
     "text": [
      "Wall time: 12.3 s\n"
     ]
    }
   ],
   "source": [
    "%time prices=np.array([change_ndays(20,avg,sd)*last_price for i in range(0,2000000)],dtype=float)"
   ]
  },
  {
   "cell_type": "markdown",
   "metadata": {},
   "source": [
    "It took about 12 seconds in my machine to process 2 million, 20 day price calculation\n",
    "Lets use parallel processing"
   ]
  },
  {
   "cell_type": "code",
   "execution_count": 66,
   "metadata": {
    "collapsed": false
   },
   "outputs": [
    {
     "name": "stdout",
     "output_type": "stream",
     "text": [
      "[0, 1, 2, 3]\n"
     ]
    }
   ],
   "source": [
    "from ipyparallel import Client\n",
    "cl = Client()\n",
    "print cl.ids\n",
    "dview=cl.direct_view()\n",
    "%px import numpy as np\n",
    "%px def change_ndays(n,avg,sd):import numpy as np; changes = np.random.normal(avg,sd,n)+1 ;  return np.prod(changes) ;\n"
   ]
  },
  {
   "cell_type": "markdown",
   "metadata": {},
   "source": [
    "\n",
    "### Parallel Processing Method 1  \n",
    "Let's compute the price changes in parallel"
   ]
  },
  {
   "cell_type": "code",
   "execution_count": 67,
   "metadata": {
    "collapsed": false
   },
   "outputs": [],
   "source": [
    "def par_price_change():\n",
    "    #I was running four cluster, so let's process 500,000 per cluster \n",
    "    %px prices_p1=np.array([change_ndays(20,0.000957355207171,0.0165205562984)*405 for i in range(0,500000)],dtype=float)\n",
    "    prices=dview.gather(\"prices_p1\")\n",
    "    return prices"
   ]
  },
  {
   "cell_type": "code",
   "execution_count": 68,
   "metadata": {
    "collapsed": false
   },
   "outputs": [
    {
     "name": "stdout",
     "output_type": "stream",
     "text": [
      "Wall time: 4.34 s\n",
      "Total Number of records processed:4\n"
     ]
    }
   ],
   "source": [
    "cl.block=True\n",
    "%time prices_par1=par_price_change()\n",
    "print \"Total Number of records processed:%s\" % len(prices_par1)"
   ]
  },
  {
   "cell_type": "markdown",
   "metadata": {},
   "source": [
    "In my machine the serial processing took about 13 second while the parallel processing took about 4.3s. The parallel processing almost three times faster   \n",
    "\n",
    "### Parallel Processing Method 2\n",
    "Let's try map_sync method of direct view"
   ]
  },
  {
   "cell_type": "code",
   "execution_count": 69,
   "metadata": {
    "collapsed": false
   },
   "outputs": [
    {
     "name": "stdout",
     "output_type": "stream",
     "text": [
      "Wall time: 7.67 s\n",
      "2000000\n"
     ]
    }
   ],
   "source": [
    "dview = cl[:]\n",
    "%time prices_par2=dview.map_sync(lambda x:change_ndays(20,0.000957355207171,0.0165205562984)*405,range(0,2000000))\n",
    "print len(prices_par2)"
   ]
  },
  {
   "cell_type": "markdown",
   "metadata": {},
   "source": [
    "The map_syc function took about 7.5s. That's about half of the time required to run in serial, but slower than method 1 in which we split the task equally and ran the command in the engines"
   ]
  },
  {
   "cell_type": "code",
   "execution_count": 70,
   "metadata": {
    "collapsed": false
   },
   "outputs": [
    {
     "data": {
      "image/png": "[encoded data removed]",
      "text/plain": [
       "<matplotlib.figure.Figure at 0x41061048>"
      ]
     },
     "metadata": {},
     "output_type": "display_data"
    }
   ],
   "source": [
    "%matplotlib inline\n",
    "histogram,bins=np.histogram(prices,bins=50)\n",
    "plot.bar(bins[:-1],histogram)\n",
    "plot.show()"
   ]
  },
  {
   "cell_type": "markdown",
   "metadata": {},
   "source": [
    "Finally we compute VaR at 99% confidence"
   ]
  },
  {
   "cell_type": "code",
   "execution_count": 71,
   "metadata": {
    "collapsed": false
   },
   "outputs": [
    {
     "name": "stdout",
     "output_type": "stream",
     "text": [
      "VaR at 99% confidence:346.465432474\n"
     ]
    }
   ],
   "source": [
    "print \"VaR at 99%% confidence:%s\" % (np.percentile(np.sort(prices),1))"
   ]
  }
 ],
 "metadata": {
  "kernelspec": {
   "display_name": "Python 2",
   "language": "python",
   "name": "python2"
  },
  "language_info": {
   "codemirror_mode": {
    "name": "ipython",
    "version": 2
   },
   "file_extension": ".py",
   "mimetype": "text/x-python",
   "name": "python",
   "nbconvert_exporter": "python",
   "pygments_lexer": "ipython2",
   "version": "2.7.11"
  }
 },
 "nbformat": 4,
 "nbformat_minor": 0
}
